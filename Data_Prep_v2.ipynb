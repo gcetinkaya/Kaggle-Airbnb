{
 "cells": [
  {
   "cell_type": "code",
   "execution_count": 3,
   "metadata": {
    "collapsed": false
   },
   "outputs": [],
   "source": [
    "#from sklearn.neighbors import KNeighborsClassifier\n",
    "#from sklearn.linear_model import LogisticRegression\n",
    "#from sklearn import metrics\n",
    "#import matplotlib.pyplot as plt\n",
    "#%matplotlib inline\n",
    "import pandas as pd\n",
    "import numpy as np\n",
    "import datetime\n",
    "import matplotlib.pyplot as plt\n",
    "\n",
    "%matplotlib inline"
   ]
  },
  {
   "cell_type": "code",
   "execution_count": 4,
   "metadata": {
    "collapsed": false
   },
   "outputs": [],
   "source": [
    "data = pd.read_csv(\"./data/train_users.csv\")\n",
    "data_test = pd.read_csv(\"./data/test_users.csv\")"
   ]
  },
  {
   "cell_type": "code",
   "execution_count": 7,
   "metadata": {
    "collapsed": false
   },
   "outputs": [
    {
     "name": "stdout",
     "output_type": "stream",
     "text": [
      "data.shape:(213466, 16)\n",
      "data_test.shape:(62096, 15)\n"
     ]
    }
   ],
   "source": [
    "print \"data.shape:\" + str(data.shape)\n",
    "print \"data_test.shape:\" + str(data_test.shape)"
   ]
  },
  {
   "cell_type": "code",
   "execution_count": 13,
   "metadata": {
    "collapsed": false
   },
   "outputs": [
    {
     "data": {
      "text/html": [
       "<div>\n",
       "<table border=\"1\" class=\"dataframe\">\n",
       "  <thead>\n",
       "    <tr style=\"text-align: right;\">\n",
       "      <th></th>\n",
       "      <th>id</th>\n",
       "      <th>date_account_created</th>\n",
       "      <th>timestamp_first_active</th>\n",
       "      <th>date_first_booking</th>\n",
       "      <th>gender</th>\n",
       "      <th>age</th>\n",
       "      <th>signup_method</th>\n",
       "      <th>signup_flow</th>\n",
       "      <th>language</th>\n",
       "      <th>affiliate_channel</th>\n",
       "      <th>affiliate_provider</th>\n",
       "      <th>first_affiliate_tracked</th>\n",
       "      <th>signup_app</th>\n",
       "      <th>first_device_type</th>\n",
       "      <th>first_browser</th>\n",
       "      <th>country_destination</th>\n",
       "    </tr>\n",
       "  </thead>\n",
       "  <tbody>\n",
       "    <tr>\n",
       "      <th>213465</th>\n",
       "      <td>axksoy1zyz</td>\n",
       "      <td>2014-09-08</td>\n",
       "      <td>20131203211400</td>\n",
       "      <td>NaN</td>\n",
       "      <td>FEMALE</td>\n",
       "      <td>40</td>\n",
       "      <td>facebook</td>\n",
       "      <td>0</td>\n",
       "      <td>en</td>\n",
       "      <td>seo</td>\n",
       "      <td>facebook</td>\n",
       "      <td>linked</td>\n",
       "      <td>Web</td>\n",
       "      <td>Windows Desktop</td>\n",
       "      <td>Chrome</td>\n",
       "      <td>NDF</td>\n",
       "    </tr>\n",
       "  </tbody>\n",
       "</table>\n",
       "</div>"
      ],
      "text/plain": [
       "                id date_account_created  timestamp_first_active  \\\n",
       "213465  axksoy1zyz           2014-09-08          20131203211400   \n",
       "\n",
       "       date_first_booking  gender  age signup_method  signup_flow language  \\\n",
       "213465                NaN  FEMALE   40      facebook            0       en   \n",
       "\n",
       "       affiliate_channel affiliate_provider first_affiliate_tracked  \\\n",
       "213465               seo           facebook                  linked   \n",
       "\n",
       "       signup_app first_device_type first_browser country_destination  \n",
       "213465        Web   Windows Desktop        Chrome                 NDF  "
      ]
     },
     "execution_count": 13,
     "metadata": {},
     "output_type": "execute_result"
    }
   ],
   "source": [
    "data[213465:213469]"
   ]
  },
  {
   "cell_type": "code",
   "execution_count": 15,
   "metadata": {
    "collapsed": false
   },
   "outputs": [
    {
     "data": {
      "text/html": [
       "<div>\n",
       "<table border=\"1\" class=\"dataframe\">\n",
       "  <thead>\n",
       "    <tr style=\"text-align: right;\">\n",
       "      <th></th>\n",
       "      <th>id</th>\n",
       "      <th>date_account_created</th>\n",
       "      <th>timestamp_first_active</th>\n",
       "      <th>date_first_booking</th>\n",
       "      <th>gender</th>\n",
       "      <th>age</th>\n",
       "      <th>signup_method</th>\n",
       "      <th>signup_flow</th>\n",
       "      <th>language</th>\n",
       "      <th>affiliate_channel</th>\n",
       "      <th>affiliate_provider</th>\n",
       "      <th>first_affiliate_tracked</th>\n",
       "      <th>signup_app</th>\n",
       "      <th>first_device_type</th>\n",
       "      <th>first_browser</th>\n",
       "    </tr>\n",
       "  </thead>\n",
       "  <tbody>\n",
       "    <tr>\n",
       "      <th>62091</th>\n",
       "      <td>cv0na2lf5a</td>\n",
       "      <td>2014-09-30</td>\n",
       "      <td>20140930235232</td>\n",
       "      <td>NaN</td>\n",
       "      <td>-unknown-</td>\n",
       "      <td>31</td>\n",
       "      <td>basic</td>\n",
       "      <td>0</td>\n",
       "      <td>en</td>\n",
       "      <td>direct</td>\n",
       "      <td>direct</td>\n",
       "      <td>untracked</td>\n",
       "      <td>Web</td>\n",
       "      <td>Windows Desktop</td>\n",
       "      <td>IE</td>\n",
       "    </tr>\n",
       "    <tr>\n",
       "      <th>62092</th>\n",
       "      <td>zp8xfonng8</td>\n",
       "      <td>2014-09-30</td>\n",
       "      <td>20140930235306</td>\n",
       "      <td>NaN</td>\n",
       "      <td>-unknown-</td>\n",
       "      <td>NaN</td>\n",
       "      <td>basic</td>\n",
       "      <td>23</td>\n",
       "      <td>ko</td>\n",
       "      <td>direct</td>\n",
       "      <td>direct</td>\n",
       "      <td>untracked</td>\n",
       "      <td>Android</td>\n",
       "      <td>Android Phone</td>\n",
       "      <td>-unknown-</td>\n",
       "    </tr>\n",
       "    <tr>\n",
       "      <th>62093</th>\n",
       "      <td>fa6260ziny</td>\n",
       "      <td>2014-09-30</td>\n",
       "      <td>20140930235408</td>\n",
       "      <td>NaN</td>\n",
       "      <td>-unknown-</td>\n",
       "      <td>NaN</td>\n",
       "      <td>basic</td>\n",
       "      <td>0</td>\n",
       "      <td>de</td>\n",
       "      <td>direct</td>\n",
       "      <td>direct</td>\n",
       "      <td>linked</td>\n",
       "      <td>Web</td>\n",
       "      <td>Windows Desktop</td>\n",
       "      <td>Firefox</td>\n",
       "    </tr>\n",
       "    <tr>\n",
       "      <th>62094</th>\n",
       "      <td>87k0fy4ugm</td>\n",
       "      <td>2014-09-30</td>\n",
       "      <td>20140930235430</td>\n",
       "      <td>NaN</td>\n",
       "      <td>-unknown-</td>\n",
       "      <td>NaN</td>\n",
       "      <td>basic</td>\n",
       "      <td>0</td>\n",
       "      <td>en</td>\n",
       "      <td>sem-brand</td>\n",
       "      <td>google</td>\n",
       "      <td>omg</td>\n",
       "      <td>Web</td>\n",
       "      <td>Mac Desktop</td>\n",
       "      <td>Safari</td>\n",
       "    </tr>\n",
       "    <tr>\n",
       "      <th>62095</th>\n",
       "      <td>9uqfg8txu3</td>\n",
       "      <td>2014-09-30</td>\n",
       "      <td>20140930235901</td>\n",
       "      <td>NaN</td>\n",
       "      <td>FEMALE</td>\n",
       "      <td>49</td>\n",
       "      <td>basic</td>\n",
       "      <td>0</td>\n",
       "      <td>en</td>\n",
       "      <td>other</td>\n",
       "      <td>other</td>\n",
       "      <td>tracked-other</td>\n",
       "      <td>Web</td>\n",
       "      <td>Windows Desktop</td>\n",
       "      <td>Chrome</td>\n",
       "    </tr>\n",
       "  </tbody>\n",
       "</table>\n",
       "</div>"
      ],
      "text/plain": [
       "               id date_account_created  timestamp_first_active  \\\n",
       "62091  cv0na2lf5a           2014-09-30          20140930235232   \n",
       "62092  zp8xfonng8           2014-09-30          20140930235306   \n",
       "62093  fa6260ziny           2014-09-30          20140930235408   \n",
       "62094  87k0fy4ugm           2014-09-30          20140930235430   \n",
       "62095  9uqfg8txu3           2014-09-30          20140930235901   \n",
       "\n",
       "       date_first_booking     gender  age signup_method  signup_flow language  \\\n",
       "62091                 NaN  -unknown-   31         basic            0       en   \n",
       "62092                 NaN  -unknown-  NaN         basic           23       ko   \n",
       "62093                 NaN  -unknown-  NaN         basic            0       de   \n",
       "62094                 NaN  -unknown-  NaN         basic            0       en   \n",
       "62095                 NaN     FEMALE   49         basic            0       en   \n",
       "\n",
       "      affiliate_channel affiliate_provider first_affiliate_tracked signup_app  \\\n",
       "62091            direct             direct               untracked        Web   \n",
       "62092            direct             direct               untracked    Android   \n",
       "62093            direct             direct                  linked        Web   \n",
       "62094         sem-brand             google                     omg        Web   \n",
       "62095             other              other           tracked-other        Web   \n",
       "\n",
       "      first_device_type first_browser  \n",
       "62091   Windows Desktop            IE  \n",
       "62092     Android Phone     -unknown-  \n",
       "62093   Windows Desktop       Firefox  \n",
       "62094       Mac Desktop        Safari  \n",
       "62095   Windows Desktop        Chrome  "
      ]
     },
     "execution_count": 15,
     "metadata": {},
     "output_type": "execute_result"
    }
   ],
   "source": [
    "data_test.tail()"
   ]
  },
  {
   "cell_type": "code",
   "execution_count": 3,
   "metadata": {
    "collapsed": false
   },
   "outputs": [],
   "source": [
    "y = data.country_destination.values\n",
    "data = data.drop(['country_destination'], axis=1)\n",
    "id_test = data_test['id']\n",
    "piv_train = data.shape[0]"
   ]
  },
  {
   "cell_type": "code",
   "execution_count": 9,
   "metadata": {
    "collapsed": false
   },
   "outputs": [
    {
     "name": "stdout",
     "output_type": "stream",
     "text": [
      "train-test border: 213466\n"
     ]
    }
   ],
   "source": [
    "print \"train-test border: %d\" % piv_train"
   ]
  },
  {
   "cell_type": "code",
   "execution_count": 4,
   "metadata": {
    "collapsed": true
   },
   "outputs": [],
   "source": [
    "#Creating a DataFrame with train+test data\n",
    "df_all = pd.concat((data, data_test), axis=0, ignore_index=True)\n",
    "#Removing date_first_booking\n",
    "df_all = df_all.drop(['date_first_booking'], axis=1)\n",
    "#Filling nan\n",
    "#df_all = df_all.fillna(-1)"
   ]
  },
  {
   "cell_type": "code",
   "execution_count": 35,
   "metadata": {
    "collapsed": false
   },
   "outputs": [
    {
     "data": {
      "text/plain": [
       "Index([u'affiliate_provider_craigslist', u'affiliate_provider_daum',\n",
       "       u'affiliate_provider_direct', u'affiliate_provider_email-marketing',\n",
       "       u'affiliate_provider_facebook',\n",
       "       u'affiliate_provider_facebook-open-graph', u'affiliate_provider_google',\n",
       "       u'affiliate_provider_gsp', u'affiliate_provider_meetup',\n",
       "       u'affiliate_provider_naver', u'affiliate_provider_other',\n",
       "       u'affiliate_provider_padmapper', u'affiliate_provider_vast',\n",
       "       u'affiliate_provider_wayn', u'affiliate_provider_yahoo',\n",
       "       u'affiliate_provider_yandex', u'first_affiliate_tracked_linked',\n",
       "       u'first_affiliate_tracked_local ops',\n",
       "       u'first_affiliate_tracked_marketing', u'first_affiliate_tracked_omg',\n",
       "       u'first_affiliate_tracked_product',\n",
       "       u'first_affiliate_tracked_tracked-other',\n",
       "       u'first_affiliate_tracked_untracked', u'signup_app_Android',\n",
       "       u'signup_app_Moweb', u'signup_app_Web', u'signup_app_iOS',\n",
       "       u'first_device_type_Android Phone', u'first_device_type_Android Tablet',\n",
       "       u'first_device_type_Desktop (Other)'],\n",
       "      dtype='object')"
      ]
     },
     "execution_count": 35,
     "metadata": {},
     "output_type": "execute_result"
    }
   ],
   "source": [
    "df_all.columns[70:100]"
   ]
  },
  {
   "cell_type": "code",
   "execution_count": 8,
   "metadata": {
    "collapsed": true
   },
   "outputs": [
    {
     "data": {
      "text/plain": [
       "<bound method Series.unique of 0         gxn3p5htnn\n",
       "1         820tgsjxq7\n",
       "2         4ft3gnwmtx\n",
       "3         bjjt8pjhuk\n",
       "4         87mebub9p4\n",
       "5         osr2jwljor\n",
       "6         lsw9q7uk0j\n",
       "7         0d01nltbrs\n",
       "8         a1vcnhxeij\n",
       "9         6uh8zyj2gn\n",
       "10        yuuqmid2rp\n",
       "11        om1ss59ys8\n",
       "12        k6np330cm1\n",
       "13        dy3rgx56cu\n",
       "14        ju3h98ch3w\n",
       "15        v4d5rl22px\n",
       "16        2dwbwkx056\n",
       "17        frhre329au\n",
       "18        cxlg85pg1r\n",
       "19        gdka1q5ktd\n",
       "20        qdubonn3uk\n",
       "21        qsibmuz9sx\n",
       "22        80f7dwscrn\n",
       "23        jha93x042q\n",
       "24        7i49vnuav6\n",
       "25        al8bcetz0g\n",
       "26        bjg0m5otl3\n",
       "27        hfrl5gle36\n",
       "28        tp6x3md0n4\n",
       "29        hql77nu2lk\n",
       "             ...    \n",
       "275532    bsv2ev628t\n",
       "275533    06echc56pl\n",
       "275534    niqgaye2ov\n",
       "275535    61iwzuhw6e\n",
       "275536    gks02el96u\n",
       "275537    v4r1161l0r\n",
       "275538    p1clbqd0o6\n",
       "275539    ozb2z0km6l\n",
       "275540    w3e3sp6i70\n",
       "275541    q5bxbq0asg\n",
       "275542    1xa5t3t0la\n",
       "275543    zuvz7gfpjz\n",
       "275544    gpusl6ppgf\n",
       "275545    gpijioh4eh\n",
       "275546    3ptlvdxss9\n",
       "275547    f9a1ncjnrg\n",
       "275548    kofaz2kh70\n",
       "275549    6xrmom7hjo\n",
       "275550    cg9wqgnad2\n",
       "275551    jg618z94wo\n",
       "275552    u7lv3glv6y\n",
       "275553    o6ofmozucx\n",
       "275554    wcw7xggeqp\n",
       "275555    m22pw2pkxr\n",
       "275556    8yvhec201j\n",
       "275557    cv0na2lf5a\n",
       "275558    zp8xfonng8\n",
       "275559    fa6260ziny\n",
       "275560    87k0fy4ugm\n",
       "275561    9uqfg8txu3\n",
       "Name: id, dtype: object>"
      ]
     },
     "execution_count": 8,
     "metadata": {},
     "output_type": "execute_result"
    }
   ],
   "source": [
    "# ALL IDs are UNIQUE!\n",
    "df_all.id.unique"
   ]
  },
  {
   "cell_type": "code",
   "execution_count": 24,
   "metadata": {
    "collapsed": false
   },
   "outputs": [
    {
     "data": {
      "text/plain": [
       "untracked        143186\n",
       "linked            62072\n",
       "omg               54861\n",
       "tracked-other      6655\n",
       "product            2353\n",
       "marketing           281\n",
       "local ops            69\n",
       "Name: first_affiliate_tracked, dtype: int64"
      ]
     },
     "execution_count": 24,
     "metadata": {},
     "output_type": "execute_result"
    }
   ],
   "source": [
    "df_all.first_affiliate_tracked.value_counts()"
   ]
  },
  {
   "cell_type": "markdown",
   "metadata": {},
   "source": [
    "### Fix ages"
   ]
  },
  {
   "cell_type": "code",
   "execution_count": 10,
   "metadata": {
    "collapsed": false,
    "scrolled": true
   },
   "outputs": [
    {
     "name": "stderr",
     "output_type": "stream",
     "text": [
      "/anaconda/lib/python2.7/site-packages/ipykernel/__main__.py:2: SettingWithCopyWarning: \n",
      "A value is trying to be set on a copy of a slice from a DataFrame\n",
      "\n",
      "See the caveats in the documentation: http://pandas.pydata.org/pandas-docs/stable/indexing.html#indexing-view-versus-copy\n",
      "  from ipykernel import kernelapp as app\n",
      "/anaconda/lib/python2.7/site-packages/ipykernel/__main__.py:3: SettingWithCopyWarning: \n",
      "A value is trying to be set on a copy of a slice from a DataFrame\n",
      "\n",
      "See the caveats in the documentation: http://pandas.pydata.org/pandas-docs/stable/indexing.html#indexing-view-versus-copy\n",
      "  app.launch_new_instance()\n"
     ]
    }
   ],
   "source": [
    "df_all.age.fillna(value=0, inplace=True)\n",
    "df_all.age[df_all.age > 116] = 0\n",
    "df_all.age[df_all.age < 15] = 0\n"
   ]
  },
  {
   "cell_type": "code",
   "execution_count": 11,
   "metadata": {
    "collapsed": true
   },
   "outputs": [
    {
     "data": {
      "text/plain": [
       "0      117757\n",
       "30       7713\n",
       "28       7687\n",
       "29       7647\n",
       "31       7542\n",
       "27       7462\n",
       "32       7187\n",
       "33       6796\n",
       "26       6745\n",
       "34       6176\n",
       "25       6150\n",
       "35       5949\n",
       "36       5032\n",
       "24       4571\n",
       "37       4475\n",
       "38       4091\n",
       "39       3642\n",
       "23       3516\n",
       "40       3328\n",
       "41       3098\n",
       "42       2732\n",
       "45       2669\n",
       "44       2585\n",
       "22       2508\n",
       "43       2486\n",
       "46       2317\n",
       "19       2024\n",
       "47       2006\n",
       "48       1779\n",
       "50       1679\n",
       "        ...  \n",
       "102        39\n",
       "109        36\n",
       "81         33\n",
       "85         32\n",
       "87         31\n",
       "100        31\n",
       "86         30\n",
       "83         30\n",
       "103        30\n",
       "107        28\n",
       "82         28\n",
       "96         27\n",
       "84         24\n",
       "90         21\n",
       "93         21\n",
       "106        20\n",
       "99         19\n",
       "92         18\n",
       "98         17\n",
       "94         17\n",
       "108        16\n",
       "89         16\n",
       "88         15\n",
       "91         14\n",
       "97         13\n",
       "115        13\n",
       "15          9\n",
       "113         4\n",
       "111         2\n",
       "112         1\n",
       "Name: age, dtype: int64"
      ]
     },
     "execution_count": 11,
     "metadata": {},
     "output_type": "execute_result"
    }
   ],
   "source": [
    "df_all.age.value_counts()"
   ]
  },
  {
   "cell_type": "markdown",
   "metadata": {},
   "source": [
    "### Process date_account_created"
   ]
  },
  {
   "cell_type": "code",
   "execution_count": 21,
   "metadata": {
    "collapsed": true
   },
   "outputs": [],
   "source": [
    "#date_account_created\n",
    "dac = np.vstack(df_all.date_account_created.astype(str).apply(lambda x: list(map(int, x.split('-')))).values)\n",
    "df_all['dac_year'] = dac[:,0]\n",
    "df_all['dac_month'] = dac[:,1]\n",
    "df_all['dac_day'] = dac[:,2]\n",
    "df_all = df_all.drop(['date_account_created'], axis=1)"
   ]
  },
  {
   "cell_type": "markdown",
   "metadata": {},
   "source": [
    "### Process timestamp_first_active"
   ]
  },
  {
   "cell_type": "code",
   "execution_count": 22,
   "metadata": {
    "collapsed": true
   },
   "outputs": [],
   "source": [
    "#timestamp_first_active\n",
    "tfa = np.vstack(df_all.timestamp_first_active.astype(str).apply(lambda x: list(map(int, [x[:4],x[4:6],x[6:8],x[8:10],x[10:12],x[12:14]]))).values)\n",
    "df_all['tfa_year'] = tfa[:,0]\n",
    "df_all['tfa_month'] = tfa[:,1]\n",
    "df_all['tfa_day'] = tfa[:,2]\n",
    "df_all = df_all.drop(['timestamp_first_active'], axis=1)"
   ]
  },
  {
   "cell_type": "markdown",
   "metadata": {},
   "source": [
    "### Process One-Hot-Encoding Features"
   ]
  },
  {
   "cell_type": "code",
   "execution_count": 25,
   "metadata": {
    "collapsed": true
   },
   "outputs": [],
   "source": [
    "df_all_backup = df_all.copy()"
   ]
  },
  {
   "cell_type": "code",
   "execution_count": 26,
   "metadata": {
    "collapsed": true
   },
   "outputs": [],
   "source": [
    "#One-hot-encoding features\n",
    "ohe_feats = ['gender', 'signup_method', 'signup_flow', 'language', 'affiliate_channel', 'affiliate_provider', 'first_affiliate_tracked', 'signup_app', 'first_device_type', 'first_browser']\n",
    "for f in ohe_feats:\n",
    "    df_all_dummy = pd.get_dummies(df_all[f], prefix=f)\n",
    "    df_all = df_all.drop([f], axis=1)\n",
    "    df_all = pd.concat((df_all, df_all_dummy), axis=1)"
   ]
  },
  {
   "cell_type": "markdown",
   "metadata": {},
   "source": [
    "## Process countries.csv"
   ]
  },
  {
   "cell_type": "code",
   "execution_count": 44,
   "metadata": {
    "collapsed": true
   },
   "outputs": [],
   "source": [
    "data_countries = pd.read_csv(\"./data/countries.csv\")\n",
    "data_age_gender_bkts = pd.read_csv(\"./data/age_gender_bkts.csv\")"
   ]
  },
  {
   "cell_type": "code",
   "execution_count": 45,
   "metadata": {
    "collapsed": true
   },
   "outputs": [
    {
     "name": "stdout",
     "output_type": "stream",
     "text": [
      "country: AU, popul: 23923\n",
      "country: CA, popul: 35871\n",
      "country: DE, popul: 82562\n",
      "country: ES, popul: 47203\n",
      "country: FR, popul: 64983\n",
      "country: GB, popul: 63840\n",
      "country: IT, popul: 61145\n",
      "country: NL, popul: 16848\n",
      "country: PT, popul: 10609\n",
      "country: US, popul: 325132\n"
     ]
    }
   ],
   "source": [
    "# set population_in_thousands\n",
    "pops = []\n",
    "for country in data_countries.country_destination.values:\n",
    "    print \"country: %s, popul: %d\" % (country, sum(data_age_gender_bkts[data_age_gender_bkts.country_destination == country].population_in_thousands.values))\n",
    "    pops.append(sum(data_age_gender_bkts[data_age_gender_bkts.country_destination == country].population_in_thousands.values))\n",
    "\n",
    "data_countries[\"population_in_thousands\"] = pops\n"
   ]
  },
  {
   "cell_type": "code",
   "execution_count": 62,
   "metadata": {
    "collapsed": false
   },
   "outputs": [],
   "source": [
    "# set avg_monthly_google_search_volumes\n",
    "avg_monthly_search_volumes = {\"AU\": 301000, \"CA\": 246000, \"DE\": 246000, \"ES\": 165000, \"FR\": 201000, \"GB\": 150000, \"IT\": 201000, \"NL\": 110000, \"PT\": 110000, \"US\": 500000}\n",
    "\n",
    "data_countries[\"avg_monthly_search_volume\"] = data_countries.apply(lambda x: avg_monthly_search_volumes[x.country_destination], axis=1)\n",
    "#for country, volume in avg_monthly_search_volumes.items():\n",
    "#    data_countries[data_countries.country_destination==country][\"avg_monthly_search_volume\"] = volume"
   ]
  },
  {
   "cell_type": "code",
   "execution_count": 67,
   "metadata": {
    "collapsed": false
   },
   "outputs": [
    {
     "data": {
      "text/html": [
       "<div>\n",
       "<table border=\"1\" class=\"dataframe\">\n",
       "  <thead>\n",
       "    <tr style=\"text-align: right;\">\n",
       "      <th></th>\n",
       "      <th>country_destination</th>\n",
       "      <th>lat_destination</th>\n",
       "      <th>lng_destination</th>\n",
       "      <th>distance_km</th>\n",
       "      <th>destination_km2</th>\n",
       "      <th>destination_language</th>\n",
       "      <th>language_levenshtein_distance</th>\n",
       "      <th>population_in_thousands</th>\n",
       "      <th>avg_monthly_search_volumes</th>\n",
       "      <th>avg_monthly_search_volume</th>\n",
       "      <th>distance_km_norm</th>\n",
       "      <th>destination_km2_norm</th>\n",
       "      <th>language_levenshtein_distance_norm</th>\n",
       "      <th>population_in_thousands_norm</th>\n",
       "      <th>avg_monthly_search_volume_norm</th>\n",
       "    </tr>\n",
       "  </thead>\n",
       "  <tbody>\n",
       "    <tr>\n",
       "      <th>0</th>\n",
       "      <td>AU</td>\n",
       "      <td>-26.853388</td>\n",
       "      <td>133.275160</td>\n",
       "      <td>15297.7440</td>\n",
       "      <td>7741220</td>\n",
       "      <td>eng</td>\n",
       "      <td>0.00</td>\n",
       "      <td>23923</td>\n",
       "      <td>0</td>\n",
       "      <td>301000</td>\n",
       "      <td>1.000000</td>\n",
       "      <td>0.774372</td>\n",
       "      <td>0.000000</td>\n",
       "      <td>0.042331</td>\n",
       "      <td>0.489744</td>\n",
       "    </tr>\n",
       "    <tr>\n",
       "      <th>1</th>\n",
       "      <td>CA</td>\n",
       "      <td>62.393303</td>\n",
       "      <td>-96.818146</td>\n",
       "      <td>2828.1333</td>\n",
       "      <td>9984670</td>\n",
       "      <td>eng</td>\n",
       "      <td>0.00</td>\n",
       "      <td>35871</td>\n",
       "      <td>0</td>\n",
       "      <td>246000</td>\n",
       "      <td>0.184873</td>\n",
       "      <td>1.000000</td>\n",
       "      <td>0.000000</td>\n",
       "      <td>0.080318</td>\n",
       "      <td>0.348718</td>\n",
       "    </tr>\n",
       "    <tr>\n",
       "      <th>2</th>\n",
       "      <td>DE</td>\n",
       "      <td>51.165707</td>\n",
       "      <td>10.452764</td>\n",
       "      <td>7879.5680</td>\n",
       "      <td>357022</td>\n",
       "      <td>deu</td>\n",
       "      <td>72.61</td>\n",
       "      <td>82562</td>\n",
       "      <td>0</td>\n",
       "      <td>246000</td>\n",
       "      <td>0.515080</td>\n",
       "      <td>0.031728</td>\n",
       "      <td>0.760712</td>\n",
       "      <td>0.228769</td>\n",
       "      <td>0.348718</td>\n",
       "    </tr>\n",
       "    <tr>\n",
       "      <th>3</th>\n",
       "      <td>ES</td>\n",
       "      <td>39.896027</td>\n",
       "      <td>-2.487694</td>\n",
       "      <td>7730.7240</td>\n",
       "      <td>505370</td>\n",
       "      <td>spa</td>\n",
       "      <td>92.25</td>\n",
       "      <td>47203</td>\n",
       "      <td>0</td>\n",
       "      <td>165000</td>\n",
       "      <td>0.505351</td>\n",
       "      <td>0.046648</td>\n",
       "      <td>0.966475</td>\n",
       "      <td>0.116348</td>\n",
       "      <td>0.141026</td>\n",
       "    </tr>\n",
       "    <tr>\n",
       "      <th>4</th>\n",
       "      <td>FR</td>\n",
       "      <td>46.232193</td>\n",
       "      <td>2.209667</td>\n",
       "      <td>7682.9450</td>\n",
       "      <td>643801</td>\n",
       "      <td>fra</td>\n",
       "      <td>92.06</td>\n",
       "      <td>64983</td>\n",
       "      <td>0</td>\n",
       "      <td>201000</td>\n",
       "      <td>0.502227</td>\n",
       "      <td>0.060570</td>\n",
       "      <td>0.964484</td>\n",
       "      <td>0.172878</td>\n",
       "      <td>0.233333</td>\n",
       "    </tr>\n",
       "    <tr>\n",
       "      <th>5</th>\n",
       "      <td>GB</td>\n",
       "      <td>54.633220</td>\n",
       "      <td>-3.432277</td>\n",
       "      <td>6883.6590</td>\n",
       "      <td>243610</td>\n",
       "      <td>eng</td>\n",
       "      <td>0.00</td>\n",
       "      <td>63840</td>\n",
       "      <td>0</td>\n",
       "      <td>150000</td>\n",
       "      <td>0.449979</td>\n",
       "      <td>0.020322</td>\n",
       "      <td>0.000000</td>\n",
       "      <td>0.169244</td>\n",
       "      <td>0.102564</td>\n",
       "    </tr>\n",
       "    <tr>\n",
       "      <th>6</th>\n",
       "      <td>IT</td>\n",
       "      <td>41.873990</td>\n",
       "      <td>12.564167</td>\n",
       "      <td>8636.6310</td>\n",
       "      <td>301340</td>\n",
       "      <td>ita</td>\n",
       "      <td>89.40</td>\n",
       "      <td>61145</td>\n",
       "      <td>0</td>\n",
       "      <td>201000</td>\n",
       "      <td>0.564569</td>\n",
       "      <td>0.026128</td>\n",
       "      <td>0.936616</td>\n",
       "      <td>0.160675</td>\n",
       "      <td>0.233333</td>\n",
       "    </tr>\n",
       "    <tr>\n",
       "      <th>7</th>\n",
       "      <td>NL</td>\n",
       "      <td>52.133057</td>\n",
       "      <td>5.295250</td>\n",
       "      <td>7524.3203</td>\n",
       "      <td>41543</td>\n",
       "      <td>nld</td>\n",
       "      <td>63.22</td>\n",
       "      <td>16848</td>\n",
       "      <td>0</td>\n",
       "      <td>110000</td>\n",
       "      <td>0.491858</td>\n",
       "      <td>0.000000</td>\n",
       "      <td>0.662336</td>\n",
       "      <td>0.019836</td>\n",
       "      <td>0.000000</td>\n",
       "    </tr>\n",
       "    <tr>\n",
       "      <th>8</th>\n",
       "      <td>PT</td>\n",
       "      <td>39.553444</td>\n",
       "      <td>-7.839319</td>\n",
       "      <td>7355.2534</td>\n",
       "      <td>92090</td>\n",
       "      <td>por</td>\n",
       "      <td>95.45</td>\n",
       "      <td>10609</td>\n",
       "      <td>0</td>\n",
       "      <td>110000</td>\n",
       "      <td>0.480806</td>\n",
       "      <td>0.005084</td>\n",
       "      <td>1.000000</td>\n",
       "      <td>0.000000</td>\n",
       "      <td>0.000000</td>\n",
       "    </tr>\n",
       "    <tr>\n",
       "      <th>9</th>\n",
       "      <td>US</td>\n",
       "      <td>36.966427</td>\n",
       "      <td>-95.844030</td>\n",
       "      <td>0.0000</td>\n",
       "      <td>9826675</td>\n",
       "      <td>eng</td>\n",
       "      <td>0.00</td>\n",
       "      <td>325132</td>\n",
       "      <td>0</td>\n",
       "      <td>500000</td>\n",
       "      <td>0.000000</td>\n",
       "      <td>0.984110</td>\n",
       "      <td>0.000000</td>\n",
       "      <td>1.000000</td>\n",
       "      <td>1.000000</td>\n",
       "    </tr>\n",
       "  </tbody>\n",
       "</table>\n",
       "</div>"
      ],
      "text/plain": [
       "  country_destination  lat_destination  lng_destination  distance_km  \\\n",
       "0                  AU       -26.853388       133.275160   15297.7440   \n",
       "1                  CA        62.393303       -96.818146    2828.1333   \n",
       "2                  DE        51.165707        10.452764    7879.5680   \n",
       "3                  ES        39.896027        -2.487694    7730.7240   \n",
       "4                  FR        46.232193         2.209667    7682.9450   \n",
       "5                  GB        54.633220        -3.432277    6883.6590   \n",
       "6                  IT        41.873990        12.564167    8636.6310   \n",
       "7                  NL        52.133057         5.295250    7524.3203   \n",
       "8                  PT        39.553444        -7.839319    7355.2534   \n",
       "9                  US        36.966427       -95.844030       0.0000   \n",
       "\n",
       "   destination_km2 destination_language   language_levenshtein_distance  \\\n",
       "0          7741220                   eng                           0.00   \n",
       "1          9984670                   eng                           0.00   \n",
       "2           357022                   deu                          72.61   \n",
       "3           505370                   spa                          92.25   \n",
       "4           643801                   fra                          92.06   \n",
       "5           243610                   eng                           0.00   \n",
       "6           301340                   ita                          89.40   \n",
       "7            41543                   nld                          63.22   \n",
       "8            92090                   por                          95.45   \n",
       "9          9826675                   eng                           0.00   \n",
       "\n",
       "   population_in_thousands  avg_monthly_search_volumes  \\\n",
       "0                    23923                           0   \n",
       "1                    35871                           0   \n",
       "2                    82562                           0   \n",
       "3                    47203                           0   \n",
       "4                    64983                           0   \n",
       "5                    63840                           0   \n",
       "6                    61145                           0   \n",
       "7                    16848                           0   \n",
       "8                    10609                           0   \n",
       "9                   325132                           0   \n",
       "\n",
       "   avg_monthly_search_volume  distance_km_norm  destination_km2_norm  \\\n",
       "0                     301000          1.000000              0.774372   \n",
       "1                     246000          0.184873              1.000000   \n",
       "2                     246000          0.515080              0.031728   \n",
       "3                     165000          0.505351              0.046648   \n",
       "4                     201000          0.502227              0.060570   \n",
       "5                     150000          0.449979              0.020322   \n",
       "6                     201000          0.564569              0.026128   \n",
       "7                     110000          0.491858              0.000000   \n",
       "8                     110000          0.480806              0.005084   \n",
       "9                     500000          0.000000              0.984110   \n",
       "\n",
       "   language_levenshtein_distance_norm  population_in_thousands_norm  \\\n",
       "0                            0.000000                      0.042331   \n",
       "1                            0.000000                      0.080318   \n",
       "2                            0.760712                      0.228769   \n",
       "3                            0.966475                      0.116348   \n",
       "4                            0.964484                      0.172878   \n",
       "5                            0.000000                      0.169244   \n",
       "6                            0.936616                      0.160675   \n",
       "7                            0.662336                      0.019836   \n",
       "8                            1.000000                      0.000000   \n",
       "9                            0.000000                      1.000000   \n",
       "\n",
       "   avg_monthly_search_volume_norm  \n",
       "0                        0.489744  \n",
       "1                        0.348718  \n",
       "2                        0.348718  \n",
       "3                        0.141026  \n",
       "4                        0.233333  \n",
       "5                        0.102564  \n",
       "6                        0.233333  \n",
       "7                        0.000000  \n",
       "8                        0.000000  \n",
       "9                        1.000000  "
      ]
     },
     "execution_count": 67,
     "metadata": {},
     "output_type": "execute_result"
    }
   ],
   "source": [
    "data_countries"
   ]
  },
  {
   "cell_type": "code",
   "execution_count": 65,
   "metadata": {
    "collapsed": false
   },
   "outputs": [],
   "source": [
    "# normalize features\n",
    "from sklearn import preprocessing\n",
    "norm_features = [\"distance_km\", \"destination_km2\", \"language_levenshtein_distance\", \"population_in_thousands\", \"avg_monthly_search_volume\"]\n",
    "min_max_scaler = preprocessing.MinMaxScaler()\n",
    "\n",
    "for feat in norm_features:\n",
    "    x = data_countries[feat].values.astype(float)\n",
    "    x_scaled = min_max_scaler.fit_transform(x.reshape(-1,1))\n",
    "    data_countries[feat+\"_norm\"] = x_scaled"
   ]
  },
  {
   "cell_type": "markdown",
   "metadata": {},
   "source": [
    "# Optionally add static normalized country features to df_all ?!"
   ]
  },
  {
   "cell_type": "code",
   "execution_count": 70,
   "metadata": {
    "collapsed": true
   },
   "outputs": [],
   "source": [
    "for country in data_countries.country_destination.values:\n",
    "    #print \"country: %s, language_levenshtein_distance: %s\" % (country, [X_countries[X_countries.country_destination==country].language_levenshtein_distance.values])\n",
    "    df_all[\"language_levenshtein_distance_norm_%s\"%country] = np.array([data_countries[data_countries.country_destination==country].language_levenshtein_distance_norm.values] * len(df_all))\n",
    "    df_all[\"distance_km_norm_%s\"%country] = np.array([data_countries[data_countries.country_destination==country].distance_km_norm.values] * len(df_all))\n",
    "    df_all[\"destination_km2_norm_%s\"%country] = np.array([data_countries[data_countries.country_destination==country].destination_km2_norm.values] * len(df_all))\n",
    "    df_all[\"population_in_thousands_norm_%s\"%country] = np.array([data_countries[data_countries.country_destination==country].population_in_thousands_norm.values] * len(df_all))\n",
    "    df_all[\"avg_monthly_search_volume_norm_%s\"%country] = np.array([data_countries[data_countries.country_destination==country].avg_monthly_search_volume_norm.values] * len(df_all))\n",
    "    "
   ]
  },
  {
   "cell_type": "markdown",
   "metadata": {},
   "source": [
    "## Set age_bucket_pop_perc_ features [takes too much time!!!]"
   ]
  },
  {
   "cell_type": "code",
   "execution_count": 72,
   "metadata": {
    "collapsed": true
   },
   "outputs": [],
   "source": [
    "def get_age_bucket_pop(row):\n",
    "    if row.age == 0:\n",
    "        #print \"age is zero, returning..\"\n",
    "        return 0\n",
    "    if row.age > 99:\n",
    "        age_bucket = \"100+\"\n",
    "    else:\n",
    "        age_bucket = \"%d-%d\" % (row.age - row.age%5, row.age + (4-row.age%5))\n",
    "    #row.age_group = \"%d-%d\" % (row.age - row.age%5, row.age + (4-row.age%5))\n",
    "    #print \"age is %d, setting it to %s\" % (row.age, row.age_group)\n",
    "    #age_bucket_pop = sum(data_age_gender_bkts[(data_age_gender_bkts.age_bucket==age_bucket) & (data_age_gender_bkts.country_destination==country)].population_in_thousands)\n",
    "    return sum(data_age_gender_bkts[(data_age_gender_bkts.age_bucket==age_bucket) & (data_age_gender_bkts.country_destination==country)].population_in_thousands)\n",
    "    #country_pop = X_countries[X_countries.country_destination==country].population_in_thousands\n",
    "    #return age_bucket_pop/float(country_pop)\n",
    "    #return age_bucket_pop\n",
    "\n",
    "for country in data_countries.country_destination.unique():\n",
    "    country_pop = data_countries[data_countries.country_destination==country].population_in_thousands\n",
    "    df_all[\"age_bucket_pop_perc_%s\"%country] = df_all.apply(get_age_bucket_pop, axis=1)/float(country_pop)\n",
    "\n",
    "#print \"processed x_t:\\n\",x_t"
   ]
  },
  {
   "cell_type": "code",
   "execution_count": 14,
   "metadata": {
    "collapsed": false,
    "scrolled": true
   },
   "outputs": [
    {
     "ename": "NameError",
     "evalue": "name 'df_all' is not defined",
     "output_type": "error",
     "traceback": [
      "\u001b[0;31m---------------------------------------------------------------------------\u001b[0m",
      "\u001b[0;31mNameError\u001b[0m                                 Traceback (most recent call last)",
      "\u001b[0;32m<ipython-input-14-ff63161c1a16>\u001b[0m in \u001b[0;36m<module>\u001b[0;34m()\u001b[0m\n\u001b[0;32m----> 1\u001b[0;31m \u001b[0mdf_all\u001b[0m\u001b[0;34m.\u001b[0m\u001b[0mtail\u001b[0m\u001b[0;34m(\u001b[0m\u001b[0;34m)\u001b[0m\u001b[0;34m\u001b[0m\u001b[0m\n\u001b[0m",
      "\u001b[0;31mNameError\u001b[0m: name 'df_all' is not defined"
     ]
    }
   ],
   "source": [
    "df_all.tail()"
   ]
  },
  {
   "cell_type": "code",
   "execution_count": 76,
   "metadata": {
    "collapsed": false
   },
   "outputs": [],
   "source": [
    "df_all.to_csv('./data/df_all_no_sess.csv', index=False)\n",
    "#y.to_csv('./data/y.csv', index=False)"
   ]
  },
  {
   "cell_type": "code",
   "execution_count": 2,
   "metadata": {
    "collapsed": false
   },
   "outputs": [
    {
     "ename": "NameError",
     "evalue": "name 'df_all' is not defined",
     "output_type": "error",
     "traceback": [
      "\u001b[0;31m---------------------------------------------------------------------------\u001b[0m",
      "\u001b[0;31mNameError\u001b[0m                                 Traceback (most recent call last)",
      "\u001b[0;32m<ipython-input-2-0869cce09b0a>\u001b[0m in \u001b[0;36m<module>\u001b[0;34m()\u001b[0m\n\u001b[0;32m----> 1\u001b[0;31m \u001b[0mdf_all\u001b[0m\u001b[0;34m.\u001b[0m\u001b[0mshape\u001b[0m\u001b[0;34m\u001b[0m\u001b[0m\n\u001b[0m",
      "\u001b[0;31mNameError\u001b[0m: name 'df_all' is not defined"
     ]
    }
   ],
   "source": [
    "df_all.shape"
   ]
  }
 ],
 "metadata": {
  "kernelspec": {
   "display_name": "Python 2",
   "language": "python",
   "name": "python2"
  },
  "language_info": {
   "codemirror_mode": {
    "name": "ipython",
    "version": 2
   },
   "file_extension": ".py",
   "mimetype": "text/x-python",
   "name": "python",
   "nbconvert_exporter": "python",
   "pygments_lexer": "ipython2",
   "version": "2.7.11"
  }
 },
 "nbformat": 4,
 "nbformat_minor": 0
}
