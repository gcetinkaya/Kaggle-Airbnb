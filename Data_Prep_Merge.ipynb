{
 "cells": [
  {
   "cell_type": "markdown",
   "metadata": {},
   "source": [
    "## Merges df_all_no_sess.csv and sessions_ohe.csv"
   ]
  },
  {
   "cell_type": "code",
   "execution_count": 1,
   "metadata": {
    "collapsed": true
   },
   "outputs": [],
   "source": [
    "import pandas as pd\n",
    "import numpy as np\n",
    "import datetime\n"
   ]
  },
  {
   "cell_type": "code",
   "execution_count": 2,
   "metadata": {
    "collapsed": false
   },
   "outputs": [],
   "source": [
    "data = pd.read_csv(\"./data/df_all_no_sess.csv\")"
   ]
  },
  {
   "cell_type": "code",
   "execution_count": 3,
   "metadata": {
    "collapsed": false
   },
   "outputs": [],
   "source": [
    "data_sess = pd.read_csv(\"./data/sessions_ohe.csv\", header=None)"
   ]
  },
  {
   "cell_type": "code",
   "execution_count": 4,
   "metadata": {
    "collapsed": false
   },
   "outputs": [],
   "source": [
    "# lists which are used to one-hot-encode sessions.csv to generate sessions_ohe.csv\n",
    "ACTION_UNIQUE_LIST = [\"lookup\", \"search_results\", \"personalize\", \"index\",\n",
    "           \"similar_listings\", \"ajax_refresh_subtotal\", \"show\",\n",
    "           \"header_userpic\", \"ask_question\", \"\",\n",
    "           \"other_hosting_reviews_first\", \"hosting_social_proof\",\n",
    "           \"decision_tree\", \"recent_reservations\", \"faq_experiment_ids\",\n",
    "           \"multi\", \"active\", \"dashboard\", \"create\", \"confirm_email\",\n",
    "           \"show_personalize\", \"verify\", \"pending\", \"requested\", \"concierge\",\n",
    "           \"faq\", \"clear_reservation\", \"cancellation_policies\",\n",
    "           \"track_page_view\", \"update\", \"my\", \"campaigns\", \"notifications\",\n",
    "           \"listings\", \"unavailabilities\", \"ajax_lwlb_contact\",\n",
    "           \"ajax_check_dates\", \"qt2\", \"request_new_confirm_email\",\n",
    "           \"ajax_photo_widget_form_iframe\", \"facebook_auto_login\", \"identity\",\n",
    "           \"qt_reply_v2\", \"travel_plans_current\", \"complete_status\",\n",
    "           \"populate_from_facebook\", \"kba_update\", \"kba\", \"login\",\n",
    "           \"authenticate\", \"calendar_tab_inner2\", \"other_hosting_reviews\",\n",
    "           \"social_connections\", \"relationship\", \"15\", \"collections\", \"12\",\n",
    "           \"jumio_redirect\", \"jumio_token\", \"login_modal\", \"domains\",\n",
    "           \"toggle_archived_thread\", \"search\", \"edit_verification\", \"edit\",\n",
    "           \"ajax_ldp\", \"connect\", \"account\", \"delete\", \"phone_number_widget\",\n",
    "           \"callback\", \"signup_modal\", \"10\", \"open_graph_setting\", \"reviews\",\n",
    "           \"signup_login\", \"payment_instruments\", \"payment_methods\", \"pay\",\n",
    "           \"unread\", \"at_checkpoint\", \"push_notification_callback\",\n",
    "           \"faq_category\", \"localization_settings\", \"update_notifications\",\n",
    "           \"manage_listing\", \"set_user\", \"references\", \"languages_multiselect\",\n",
    "           \"salute\", \"rentals\", \"currencies\", \"new\", \"position\",\n",
    "           \"populate_help_dropdown\", \"popular\", \"popular_listing\", \"listing\",\n",
    "           \"available\", \"glob\", \"this_hosting_reviews\", \"widget\", \"complete\",\n",
    "           \"profile_pic\", \"signature\", \"apply_reservation\", \"ajax_statsd\",\n",
    "           \"travel\", \"tos_confirm\", \"uptodate\",\n",
    "           \"ajax_payout_options_by_country\", \"payout_preferences\",\n",
    "           \"payout_update\", \"ajax_payout_edit\", \"pending_tickets\", \"issue\",\n",
    "           \"contact_new\", \"itinerary\", \"receipt\",\n",
    "           \"update_hide_from_search_engines\", \"settings\", \"privacy\",\n",
    "           \"reviews_new\", \"add_guests\", \"ajax_image_upload\", \"qt_with\",\n",
    "           \"webcam_upload\", \"friends\", \"ajax_google_translate_description\",\n",
    "           \"trust\", \"guarantee\", \"supported\", \"countries\", \"status\", \"upload\",\n",
    "           \"authorize\", \"rate\", \"remove_dashboard_alert\", \"ajax_get_results\",\n",
    "           \"recommend\", \"change_currency\", \"transaction_history_paginated\",\n",
    "           \"transaction_history\", \"set_password\", \"cancel\",\n",
    "           \"phone_verification_modal\", \"submit_contact\", \"detect_fb_session\",\n",
    "           \"tell_a_friend\", \"change\", \"clickthrough\",\n",
    "           \"multi_message_attributes\", \"update_friends_display\", \"my_listings\",\n",
    "           \"email_itinerary_colorbox\", \"mobile_landing_page\", \"create_ach\",\n",
    "           \"country_options\", \"11\", \"host_2013\", \"terms\", \"multi_message\",\n",
    "           \"ajax_send_message\", \"airbnb_picks\", \"friends_new\", \"reputation\",\n",
    "           \"complete_redirect\", \"toggle_starred_thread\", \"email_share\",\n",
    "           \"email_wishlist\", \"destroy\", \"add_note\", \"overview\", \"requirements\",\n",
    "           \"update_reservation_requirements\", \"image_order\", \"review_page\",\n",
    "           \"ajax_worth\", \"place_worth\", \"google_importer\",\n",
    "           \"change_availability\", \"hospitality\", \"change_password\", \"feed\",\n",
    "           \"host_summary\", \"ajax_price_and_availability\", \"jumio\",\n",
    "           \"guest_booked_elsewhere\", \"about_us\", \"founders\",\n",
    "           \"travel_plans_previous\", \"why_host\", \"hospitality_standards\",\n",
    "           \"social\", \"recommendations\", \"update_cached\", \"become_user\",\n",
    "           \"departments\", \"department\", \"office_location\", \"photography\",\n",
    "           \"preapproval\", \"maybe_information\", \"toggle_availability\",\n",
    "           \"payoneer_account_redirect\", \"forgot_password\", \"new_host\",\n",
    "           \"payoneer_signup_complete\", \"ajax_google_translate\", \"onenight\",\n",
    "           \"approve\", \"nyan\", \"booking\", \"payout_delete\",\n",
    "           \"change_default_payout\", \"envoy_bank_details_redirect\", \"respond\",\n",
    "           \"request_photography\", \"zendesk_login_jwt\", \"ajax_photo_widget\",\n",
    "           \"message\", \"southern-europe\", \"life\", \"press_release\",\n",
    "           \"media_resources\", \"press_news\", \"referrer_status\",\n",
    "           \"create_multiple\", \"load_more\", \"create_paypal\", \"locale_from_host\",\n",
    "           \"terms_and_conditions\", \"invalid_action\", \"photography_update\",\n",
    "           \"badge\", \"apply\", \"redirect\", \"pricing\", \"apply_code\", \"slideshow\",\n",
    "           \"locations\", \"ajax_google_translate_reviews\", \"new_session\",\n",
    "           \"has_profile_pic\", \"sublets\", \"wishlists\", \"reservation\",\n",
    "           \"localized\", \"home_safety_landing\", \"click\", \"how_it_works\",\n",
    "           \"ajax_get_referrals_amt\", \"phone_verification\", \"satisfy\",\n",
    "           \"city_count\", \"recommendation_page\", \"press_content\",\n",
    "           \"guest_billing_receipt\", \"ajax_payout_split_edit\",\n",
    "           \"print_confirmation\", \"envoy_form\",\n",
    "           \"ajax_special_offer_dates_available\",\n",
    "           \"ajax_referral_banner_experiment_type\", \"patch\", \"questions\",\n",
    "           \"home_safety_terms\", \"track_activity\", \"check\", \"sldf\",\n",
    "           \"recommended_listings\", \"mobile_oauth_callback\", \"show_code\",\n",
    "           \"signed_out_modal\", \"plaxo_cb\", \"views\", \"friend_listing\",\n",
    "           \"ajax_referral_banner_type\", \"deactivate\", \"sync\", \"social-media\",\n",
    "           \"united-states\", \"email_by_key\", \"disaster_action\",\n",
    "           \"views_campaign\", \"update_message\", \"spoken_languages\",\n",
    "           \"use_mobile_site\", \"deauthorize\", \"special_offer\",\n",
    "           \"top_destinations\", \"create_airbnb\", \"handle_vanity_url\",\n",
    "           \"impressions\", \"message_to_host_focus\", \"cancellation_policy_click\",\n",
    "           \"message_to_host_change\", \"agree_terms_check\", \"read_policy_click\",\n",
    "           \"phone_verification_success\",\n",
    "           \"phone_verification_number_sucessfully_submitted\",\n",
    "           \"phone_verification_number_submitted_for_sms\",\n",
    "           \"phone_verification_phone_number_removed\", \"endpoint_error\",\n",
    "           \"p4_refund_policy_terms\", \"apply_coupon_error_type\",\n",
    "           \"apply_coupon_error\", \"apply_coupon_click\", \"coupon_field_focus\",\n",
    "           \"coupon_code_click\", \"agree_terms_uncheck\", \"p4_terms\",\n",
    "           \"phone_verification_call_taking_too_long\",\n",
    "           \"phone_verification_number_submitted_for_call\",\n",
    "           \"phone_verification_error\", \"apply_coupon_click_success\",\n",
    "           \"set_default\", \"update_country_of_residence\",\n",
    "           \"open_hard_fallback_modal\", \"tos_2014\", \"views_campaign_rules\",\n",
    "           \"weibo_signup_referral_finish\", \"signup_weibo_referral\",\n",
    "           \"similar_listings_v2\", \"confirmation\", \"signup_weibo\",\n",
    "           \"acculynk_load_pin_pad\", \"acculynk_bin_check_success\",\n",
    "           \"acculynk_session_obtained\", \"acculynk_pin_pad_inactive\",\n",
    "           \"reactivate\", \"airbrb\", \"desks\", \"sandy\", \"unsubscribe\",\n",
    "           \"host_cancel\", \"acculynk_bin_check_failed\",\n",
    "           \"acculynk_pin_pad_error\", \"custom_recommended_destinations\",\n",
    "           \"this_hosting_reviews_3000\", \"reset_calendar\", \"events\",\n",
    "           \"business_travel\", \"add_guest_colorbox\", \"hard_fallback_submit\",\n",
    "           \"add_business_address_colorbox\", \"my_reservations\", \"report\",\n",
    "           \"book\", \"revert_to_admin\", \"acculynk_pin_pad_success\",\n",
    "           \"south-america\", \"braintree_client_token\", \"view\", \"stpcv\",\n",
    "           \"set_minimum_payout_amount\", \"support_phone_numbers\",\n",
    "           \"refund_guest_cancellation\", \"accept_decline\", \"deactivated\",\n",
    "           \"rest-of-world\"]\n",
    "\n",
    "ACTION_TYPE_UNIQUE_LIST = [\"\", \"click\", \"data\", \"view\", \"submit\", \"message_post\", \"-unknown-\",\n",
    "                                                           \"booking_request\", \"partner_callback\", \"booking_response\", \"modify\"]\n",
    "\n",
    "ACTION_DETAIL_UNIQUE_LIST = [\"\", \"view_search_results\", \"wishlist_content_update\",\n",
    "                                                             \"similar_listings\", \"change_trip_characteristics\", \"p3\",\n",
    "                                                             \"header_userpic\", \"contact_host\", \"message_post\", \"-unknown-\",\n",
    "                                                             \"dashboard\", \"create_user\", \"confirm_email_link\",\n",
    "                                                             \"user_profile_content_update\", \"user_profile\", \"pending\", \"p5\",\n",
    "                                                             \"create_phone_numbers\", \"cancellation_policies\", \"user_wishlists\",\n",
    "                                                             \"change_contact_host_dates\", \"wishlist\", \"message_thread\",\n",
    "                                                             \"request_new_confirm_email\", \"send_message\", \"your_trips\",\n",
    "                                                             \"login_page\", \"login\", \"login_modal\", \"toggle_archived_thread\",\n",
    "                                                             \"p1\", \"profile_verifications\", \"edit_profile\", \"oauth_login\",\n",
    "                                                             \"post_checkout_action\", \"account_notification_settings\",\n",
    "                                                             \"update_user_profile\", \"oauth_response\", \"signup_modal\",\n",
    "                                                             \"signup_login_page\", \"at_checkpoint\", \"manage_listing\",\n",
    "                                                             \"create_listing\", \"your_listings\", \"profile_references\",\n",
    "                                                             \"list_your_space\", \"popular_wishlists\", \"listing_reviews_page\",\n",
    "                                                             \"apply_coupon\", \"user_tax_forms\", \"account_payout_preferences\",\n",
    "                                                             \"guest_itinerary\", \"guest_receipt\", \"account_privacy_settings\",\n",
    "                                                             \"lookup_message_thread\", \"friends_wishlists\", \"host_guarantee\",\n",
    "                                                             \"delete_phone_numbers\", \"account_transaction_history\",\n",
    "                                                             \"set_password\", \"guest_cancellation\", \"change_or_alter\",\n",
    "                                                             \"your_reservations\", \"terms_and_privacy\", \"airbnb_picks_wishlists\",\n",
    "                                                             \"toggle_starred_thread\", \"email_wishlist\", \"email_wishlist_button\",\n",
    "                                                             \"wishlist_note\", \"calculate_worth\", \"place_worth\",\n",
    "                                                             \"change_password\", \"alteration_field\", \"previous_trips\",\n",
    "                                                             \"update_listing\", \"update_listing_description\", \"user_reviews\",\n",
    "                                                             \"update_user\", \"notifications\", \"user_social_connections\",\n",
    "                                                             \"unavailable_dates\", \"reservations\", \"listing_reviews\",\n",
    "                                                             \"user_listings\", \"signup\", \"message_inbox\", \"trip_availability\",\n",
    "                                                             \"payment_instruments\", \"admin_templates\", \"host_home\",\n",
    "                                                             \"translations\", \"forgot_password\", \"homepage\",\n",
    "                                                             \"remove_dashboard_alert\", \"user_friend_recommendations\",\n",
    "                                                             \"confirm_email\", \"host_respond\", \"booking\",\n",
    "                                                             \"respond_to_alteration_request\", \"alteration_request\",\n",
    "                                                             \"create_alteration_request\", \"delete_listing\", \"set_password_page\",\n",
    "                                                             \"delete_listing_description\", \"translate_listing_reviews\",\n",
    "                                                             \"book_it\", \"instant_book\", \"request_to_book\", \"complete_booking\",\n",
    "                                                             \"change_availability\", \"special_offer_field\",\n",
    "                                                             \"listing_recommendations\", \"view_listing\", \"listing_descriptions\",\n",
    "                                                             \"user_languages\", \"p4\", \"message_to_host_focus\",\n",
    "                                                             \"cancellation_policy_click\", \"message_to_host_change\",\n",
    "                                                             \"read_policy_click\", \"phone_verification_success\",\n",
    "                                                             \"p4_refund_policy_terms\", \"apply_coupon_error\",\n",
    "                                                             \"apply_coupon_click\", \"coupon_field_focus\", \"coupon_code_click\",\n",
    "                                                             \"p4_terms\", \"apply_coupon_click_success\", \"tos_2014\",\n",
    "                                                             \"view_reservations\", \"view_locations\", \"modify_users\",\n",
    "                                                             \"view_security_checks\", \"phone_numbers\", \"profile_reviews\",\n",
    "                                                             \"modify_reservations\", \"view_resolutions\",\n",
    "                                                             \"account_payment_methods\", \"create_payment_instrument\",\n",
    "                                                             \"set_default_payment_instrument\", \"delete_payment_instrument\",\n",
    "                                                             \"photos\", \"click_reviews\", \"move_map\", \"share\",\n",
    "                                                             \"cancellation_policy\", \"click_about_host\", \"click_amenities\",\n",
    "                                                             \"host_refund_guest\", \"host_respond_page\", \"view_user_real_names\",\n",
    "                                                             \"view_identity_verifications\", \"view_ghosting_reasons\",\n",
    "                                                             \"view_ghostings\", \"host_standard_suspension\",\n",
    "                                                             \"deactivate_user_account\"]\n",
    "\n",
    "DEVICE_TYPE_UNIQUE_LIST = [\"Windows Desktop\", \"-unknown-\", \"Mac Desktop\", \"Android Phone\",\n",
    "                                                           \"iPhone\", \"iPad Tablet\", \"Android App Unknown Phone/Tablet\",\n",
    "                                                           \"Linux Desktop\", \"Tablet\", \"Chromebook\", \"Blackberry\", \"iPodtouch\",\n",
    "                                                           \"Windows Phone\", \"Opera Phone\"]"
   ]
  },
  {
   "cell_type": "code",
   "execution_count": 5,
   "metadata": {
    "collapsed": true
   },
   "outputs": [],
   "source": [
    "# rename \"id\" column to \"user_id\" @df_all_no_sess.csv\n",
    "data_cols = list(data.columns)\n",
    "data_cols[0] = \"user_id\"\n",
    "data.columns = data_cols"
   ]
  },
  {
   "cell_type": "code",
   "execution_count": 6,
   "metadata": {
    "collapsed": false
   },
   "outputs": [],
   "source": [
    "# add headers to sessions_ohe\n",
    "columns = []\n",
    "# for field: action\n",
    "for i in range(len(ACTION_UNIQUE_LIST)):\n",
    "    columns.append(\"action_%s\" % ACTION_UNIQUE_LIST[i])\n",
    "# for field: action_type\n",
    "for i in range(len(ACTION_TYPE_UNIQUE_LIST)):\n",
    "    columns.append(\"action_type_%s\" % ACTION_TYPE_UNIQUE_LIST[i])\n",
    "# for field: action_detail\n",
    "for i in range(len(ACTION_DETAIL_UNIQUE_LIST)):\n",
    "    columns.append(\"action_detail_%s\" % ACTION_DETAIL_UNIQUE_LIST[i])\n",
    "# for field: device_type\n",
    "for i in range(len(DEVICE_TYPE_UNIQUE_LIST)):\n",
    "    columns.append(\"device_type_%s\" % DEVICE_TYPE_UNIQUE_LIST[i])\n",
    "\n",
    "# append 1,2,4,8,16,24 hrs lagged session #s\n",
    "columns.append(\"num_sessions_1_hrs\")\n",
    "columns.append(\"num_sessions_2_hrs\")\n",
    "columns.append(\"num_sessions_4_hrs\")\n",
    "columns.append(\"num_sessions_8_hrs\")\n",
    "columns.append(\"num_sessions_16_hrs\")\n",
    "columns.append(\"num_sessions_24_hrs\")\n",
    "# for secs_elapsed, hit_count, and avg_secs_elapsed\n",
    "columns.append(\"secs_elapsed\")\n",
    "columns.append(\"hit_count\")\n",
    "columns.append(\"avg_secs_elapsed\")\n",
    "# for user_id\n",
    "columns.insert(0, \"user_id\")\n",
    "\n",
    "data_sess.columns = columns"
   ]
  },
  {
   "cell_type": "code",
   "execution_count": 8,
   "metadata": {
    "collapsed": false
   },
   "outputs": [],
   "source": [
    "# finally, merge..\n",
    "merged = pd.merge(data, data_sess, on=\"user_id\", sort=False, how=\"outer\")"
   ]
  },
  {
   "cell_type": "code",
   "execution_count": 9,
   "metadata": {
    "collapsed": false
   },
   "outputs": [
    {
     "name": "stdout",
     "output_type": "stream",
     "text": [
      "<class 'pandas.core.frame.DataFrame'>\n",
      "Int64Index: 275563 entries, 0 to 275562\n",
      "Columns: 771 entries, user_id to avg_secs_elapsed\n",
      "dtypes: float64(770), object(1)\n",
      "memory usage: 1.6+ GB\n"
     ]
    }
   ],
   "source": [
    "merged.info()"
   ]
  },
  {
   "cell_type": "code",
   "execution_count": 10,
   "metadata": {
    "collapsed": false
   },
   "outputs": [
    {
     "data": {
      "text/html": [
       "<div>\n",
       "<table border=\"1\" class=\"dataframe\">\n",
       "  <thead>\n",
       "    <tr style=\"text-align: right;\">\n",
       "      <th></th>\n",
       "      <th>user_id</th>\n",
       "      <th>age</th>\n",
       "      <th>dac_year</th>\n",
       "      <th>dac_month</th>\n",
       "      <th>dac_day</th>\n",
       "      <th>tfa_year</th>\n",
       "      <th>tfa_month</th>\n",
       "      <th>tfa_day</th>\n",
       "      <th>gender_-unknown-</th>\n",
       "      <th>gender_FEMALE</th>\n",
       "      <th>...</th>\n",
       "      <th>device_type_Opera Phone</th>\n",
       "      <th>num_sessions_1_hrs</th>\n",
       "      <th>num_sessions_2_hrs</th>\n",
       "      <th>num_sessions_4_hrs</th>\n",
       "      <th>num_sessions_8_hrs</th>\n",
       "      <th>num_sessions_16_hrs</th>\n",
       "      <th>num_sessions_24_hrs</th>\n",
       "      <th>secs_elapsed</th>\n",
       "      <th>hit_count</th>\n",
       "      <th>avg_secs_elapsed</th>\n",
       "    </tr>\n",
       "  </thead>\n",
       "  <tbody>\n",
       "    <tr>\n",
       "      <th>275562</th>\n",
       "      <td>NaN</td>\n",
       "      <td>NaN</td>\n",
       "      <td>NaN</td>\n",
       "      <td>NaN</td>\n",
       "      <td>NaN</td>\n",
       "      <td>NaN</td>\n",
       "      <td>NaN</td>\n",
       "      <td>NaN</td>\n",
       "      <td>NaN</td>\n",
       "      <td>NaN</td>\n",
       "      <td>...</td>\n",
       "      <td>0</td>\n",
       "      <td>12031</td>\n",
       "      <td>9364</td>\n",
       "      <td>6544</td>\n",
       "      <td>3842</td>\n",
       "      <td>1922</td>\n",
       "      <td>1238</td>\n",
       "      <td>602297414</td>\n",
       "      <td>34496</td>\n",
       "      <td>17459</td>\n",
       "    </tr>\n",
       "  </tbody>\n",
       "</table>\n",
       "<p>1 rows × 771 columns</p>\n",
       "</div>"
      ],
      "text/plain": [
       "       user_id  age  dac_year  dac_month  dac_day  tfa_year  tfa_month  \\\n",
       "275562     NaN  NaN       NaN        NaN      NaN       NaN        NaN   \n",
       "\n",
       "        tfa_day  gender_-unknown-  gender_FEMALE        ...         \\\n",
       "275562      NaN               NaN            NaN        ...          \n",
       "\n",
       "        device_type_Opera Phone  num_sessions_1_hrs  num_sessions_2_hrs  \\\n",
       "275562                        0               12031                9364   \n",
       "\n",
       "        num_sessions_4_hrs  num_sessions_8_hrs  num_sessions_16_hrs  \\\n",
       "275562                6544                3842                 1922   \n",
       "\n",
       "        num_sessions_24_hrs  secs_elapsed  hit_count  avg_secs_elapsed  \n",
       "275562                 1238     602297414      34496             17459  \n",
       "\n",
       "[1 rows x 771 columns]"
      ]
     },
     "execution_count": 10,
     "metadata": {},
     "output_type": "execute_result"
    }
   ],
   "source": [
    "merged[275562:275564]"
   ]
  },
  {
   "cell_type": "code",
   "execution_count": 11,
   "metadata": {
    "collapsed": false,
    "scrolled": true
   },
   "outputs": [
    {
     "data": {
      "text/html": [
       "<div>\n",
       "<table border=\"1\" class=\"dataframe\">\n",
       "  <thead>\n",
       "    <tr style=\"text-align: right;\">\n",
       "      <th></th>\n",
       "      <th>user_id</th>\n",
       "      <th>age</th>\n",
       "      <th>dac_year</th>\n",
       "      <th>dac_month</th>\n",
       "      <th>dac_day</th>\n",
       "      <th>tfa_year</th>\n",
       "      <th>tfa_month</th>\n",
       "      <th>tfa_day</th>\n",
       "      <th>gender_-unknown-</th>\n",
       "      <th>gender_FEMALE</th>\n",
       "      <th>...</th>\n",
       "      <th>device_type_Opera Phone</th>\n",
       "      <th>num_sessions_1_hrs</th>\n",
       "      <th>num_sessions_2_hrs</th>\n",
       "      <th>num_sessions_4_hrs</th>\n",
       "      <th>num_sessions_8_hrs</th>\n",
       "      <th>num_sessions_16_hrs</th>\n",
       "      <th>num_sessions_24_hrs</th>\n",
       "      <th>secs_elapsed</th>\n",
       "      <th>hit_count</th>\n",
       "      <th>avg_secs_elapsed</th>\n",
       "    </tr>\n",
       "  </thead>\n",
       "  <tbody>\n",
       "    <tr>\n",
       "      <th>275558</th>\n",
       "      <td>zp8xfonng8</td>\n",
       "      <td>0</td>\n",
       "      <td>2014</td>\n",
       "      <td>9</td>\n",
       "      <td>30</td>\n",
       "      <td>2014</td>\n",
       "      <td>9</td>\n",
       "      <td>30</td>\n",
       "      <td>1</td>\n",
       "      <td>0</td>\n",
       "      <td>...</td>\n",
       "      <td>0</td>\n",
       "      <td>5</td>\n",
       "      <td>2</td>\n",
       "      <td>0</td>\n",
       "      <td>0</td>\n",
       "      <td>0</td>\n",
       "      <td>0</td>\n",
       "      <td>51618</td>\n",
       "      <td>20</td>\n",
       "      <td>2580</td>\n",
       "    </tr>\n",
       "    <tr>\n",
       "      <th>275559</th>\n",
       "      <td>fa6260ziny</td>\n",
       "      <td>0</td>\n",
       "      <td>2014</td>\n",
       "      <td>9</td>\n",
       "      <td>30</td>\n",
       "      <td>2014</td>\n",
       "      <td>9</td>\n",
       "      <td>30</td>\n",
       "      <td>1</td>\n",
       "      <td>0</td>\n",
       "      <td>...</td>\n",
       "      <td>0</td>\n",
       "      <td>32</td>\n",
       "      <td>22</td>\n",
       "      <td>8</td>\n",
       "      <td>5</td>\n",
       "      <td>3</td>\n",
       "      <td>2</td>\n",
       "      <td>823297</td>\n",
       "      <td>78</td>\n",
       "      <td>10555</td>\n",
       "    </tr>\n",
       "    <tr>\n",
       "      <th>275560</th>\n",
       "      <td>87k0fy4ugm</td>\n",
       "      <td>0</td>\n",
       "      <td>2014</td>\n",
       "      <td>9</td>\n",
       "      <td>30</td>\n",
       "      <td>2014</td>\n",
       "      <td>9</td>\n",
       "      <td>30</td>\n",
       "      <td>1</td>\n",
       "      <td>0</td>\n",
       "      <td>...</td>\n",
       "      <td>0</td>\n",
       "      <td>5</td>\n",
       "      <td>5</td>\n",
       "      <td>5</td>\n",
       "      <td>1</td>\n",
       "      <td>1</td>\n",
       "      <td>1</td>\n",
       "      <td>352068</td>\n",
       "      <td>15</td>\n",
       "      <td>23471</td>\n",
       "    </tr>\n",
       "    <tr>\n",
       "      <th>275561</th>\n",
       "      <td>9uqfg8txu3</td>\n",
       "      <td>49</td>\n",
       "      <td>2014</td>\n",
       "      <td>9</td>\n",
       "      <td>30</td>\n",
       "      <td>2014</td>\n",
       "      <td>9</td>\n",
       "      <td>30</td>\n",
       "      <td>0</td>\n",
       "      <td>1</td>\n",
       "      <td>...</td>\n",
       "      <td>0</td>\n",
       "      <td>10</td>\n",
       "      <td>9</td>\n",
       "      <td>9</td>\n",
       "      <td>5</td>\n",
       "      <td>4</td>\n",
       "      <td>4</td>\n",
       "      <td>2804544</td>\n",
       "      <td>16</td>\n",
       "      <td>175284</td>\n",
       "    </tr>\n",
       "    <tr>\n",
       "      <th>275562</th>\n",
       "      <td>NaN</td>\n",
       "      <td>NaN</td>\n",
       "      <td>NaN</td>\n",
       "      <td>NaN</td>\n",
       "      <td>NaN</td>\n",
       "      <td>NaN</td>\n",
       "      <td>NaN</td>\n",
       "      <td>NaN</td>\n",
       "      <td>NaN</td>\n",
       "      <td>NaN</td>\n",
       "      <td>...</td>\n",
       "      <td>0</td>\n",
       "      <td>12031</td>\n",
       "      <td>9364</td>\n",
       "      <td>6544</td>\n",
       "      <td>3842</td>\n",
       "      <td>1922</td>\n",
       "      <td>1238</td>\n",
       "      <td>602297414</td>\n",
       "      <td>34496</td>\n",
       "      <td>17459</td>\n",
       "    </tr>\n",
       "  </tbody>\n",
       "</table>\n",
       "<p>5 rows × 771 columns</p>\n",
       "</div>"
      ],
      "text/plain": [
       "           user_id  age  dac_year  dac_month  dac_day  tfa_year  tfa_month  \\\n",
       "275558  zp8xfonng8    0      2014          9       30      2014          9   \n",
       "275559  fa6260ziny    0      2014          9       30      2014          9   \n",
       "275560  87k0fy4ugm    0      2014          9       30      2014          9   \n",
       "275561  9uqfg8txu3   49      2014          9       30      2014          9   \n",
       "275562         NaN  NaN       NaN        NaN      NaN       NaN        NaN   \n",
       "\n",
       "        tfa_day  gender_-unknown-  gender_FEMALE        ...         \\\n",
       "275558       30                 1              0        ...          \n",
       "275559       30                 1              0        ...          \n",
       "275560       30                 1              0        ...          \n",
       "275561       30                 0              1        ...          \n",
       "275562      NaN               NaN            NaN        ...          \n",
       "\n",
       "        device_type_Opera Phone  num_sessions_1_hrs  num_sessions_2_hrs  \\\n",
       "275558                        0                   5                   2   \n",
       "275559                        0                  32                  22   \n",
       "275560                        0                   5                   5   \n",
       "275561                        0                  10                   9   \n",
       "275562                        0               12031                9364   \n",
       "\n",
       "        num_sessions_4_hrs  num_sessions_8_hrs  num_sessions_16_hrs  \\\n",
       "275558                   0                   0                    0   \n",
       "275559                   8                   5                    3   \n",
       "275560                   5                   1                    1   \n",
       "275561                   9                   5                    4   \n",
       "275562                6544                3842                 1922   \n",
       "\n",
       "        num_sessions_24_hrs  secs_elapsed  hit_count  avg_secs_elapsed  \n",
       "275558                    0         51618         20              2580  \n",
       "275559                    2        823297         78             10555  \n",
       "275560                    1        352068         15             23471  \n",
       "275561                    4       2804544         16            175284  \n",
       "275562                 1238     602297414      34496             17459  \n",
       "\n",
       "[5 rows x 771 columns]"
      ]
     },
     "execution_count": 11,
     "metadata": {},
     "output_type": "execute_result"
    }
   ],
   "source": [
    "merged.tail()"
   ]
  },
  {
   "cell_type": "code",
   "execution_count": 12,
   "metadata": {
    "collapsed": true
   },
   "outputs": [],
   "source": [
    "merged.drop(merged.index[[275562]], inplace=True)"
   ]
  },
  {
   "cell_type": "code",
   "execution_count": 15,
   "metadata": {
    "collapsed": false
   },
   "outputs": [],
   "source": [
    "# save to .csv\n",
    "merged.to_csv('./data/df_all_inc_sess.csv', index=False)"
   ]
  },
  {
   "cell_type": "code",
   "execution_count": 13,
   "metadata": {
    "collapsed": false
   },
   "outputs": [
    {
     "name": "stdout",
     "output_type": "stream",
     "text": [
      "<class 'pandas.core.frame.DataFrame'>\n",
      "Int64Index: 275562 entries, 0 to 275561\n",
      "Columns: 771 entries, user_id to avg_secs_elapsed\n",
      "dtypes: float64(770), object(1)\n",
      "memory usage: 1.6+ GB\n"
     ]
    }
   ],
   "source": [
    "merged.info()"
   ]
  },
  {
   "cell_type": "code",
   "execution_count": 49,
   "metadata": {
    "collapsed": false
   },
   "outputs": [
    {
     "data": {
      "text/plain": [
       "(275562, 765)"
      ]
     },
     "execution_count": 49,
     "metadata": {},
     "output_type": "execute_result"
    }
   ],
   "source": [
    "merged.shape"
   ]
  },
  {
   "cell_type": "code",
   "execution_count": 14,
   "metadata": {
    "collapsed": false
   },
   "outputs": [
    {
     "name": "stdout",
     "output_type": "stream",
     "text": [
      "(275562, 221)\n",
      "(135484, 551)\n"
     ]
    }
   ],
   "source": [
    "print data.shape\n",
    "print data_sess.shape"
   ]
  },
  {
   "cell_type": "code",
   "execution_count": 55,
   "metadata": {
    "collapsed": false
   },
   "outputs": [
    {
     "name": "stdout",
     "output_type": "stream",
     "text": [
      "<class 'pandas.core.frame.DataFrame'>\n",
      "Int64Index: 135484 entries, 0 to 135483\n",
      "Columns: 545 entries, user_id to avg_secs_elapsed\n",
      "dtypes: int64(544), object(1)\n",
      "memory usage: 564.4+ MB\n"
     ]
    }
   ],
   "source": [
    "data_sess.info()"
   ]
  }
 ],
 "metadata": {
  "kernelspec": {
   "display_name": "Python 2",
   "language": "python",
   "name": "python2"
  },
  "language_info": {
   "codemirror_mode": {
    "name": "ipython",
    "version": 2
   },
   "file_extension": ".py",
   "mimetype": "text/x-python",
   "name": "python",
   "nbconvert_exporter": "python",
   "pygments_lexer": "ipython2",
   "version": "2.7.11"
  }
 },
 "nbformat": 4,
 "nbformat_minor": 0
}
