{
 "cells": [
  {
   "cell_type": "code",
   "execution_count": 16,
   "metadata": {
    "collapsed": false,
    "scrolled": true
   },
   "outputs": [],
   "source": [
    "#import sys\n",
    "#sys.path.insert(0,\"/Library/Python/2.7/site-packages/\") \n",
    "#sys.path.insert(0,\"/Library/Frameworks/Python.framework/Versions/2.7/bin\")\n",
    "\n",
    "import pandas as pd\n",
    "import numpy as np\n",
    "from sklearn.cross_validation import train_test_split\n",
    "from sklearn.linear_model import LogisticRegression, SGDClassifier\n",
    "from sklearn.neighbors import KNeighborsClassifier\n",
    "from sklearn.cross_validation import cross_val_score\n",
    "from sklearn import metrics"
   ]
  },
  {
   "cell_type": "code",
   "execution_count": 17,
   "metadata": {
    "collapsed": false
   },
   "outputs": [],
   "source": [
    "X = pd.read_csv(\"./data/X.csv\")\n",
    "y = pd.read_csv(\"./data/y.csv\")"
   ]
  },
  {
   "cell_type": "code",
   "execution_count": 18,
   "metadata": {
    "collapsed": false
   },
   "outputs": [
    {
     "name": "stdout",
     "output_type": "stream",
     "text": [
      "y is indexed by dict:\n",
      "{'FR': 3, 'NL': 9, 'PT': 8, 'CA': 4, 'DE': 10, 'IT': 7, 'US': 1, 'NDF': 0, 'other': 2, 'AU': 11, 'GB': 5, 'ES': 6}\n"
     ]
    }
   ],
   "source": [
    "y_labels = {}\n",
    "i = 0\n",
    "for value in y.country_destination.unique():\n",
    "    if value not in y_labels.keys():\n",
    "        y_labels[value] = i\n",
    "        i += 1\n",
    "    y[y == value] = i-1\n",
    "\n",
    "print \"y is indexed by dict:\\n%s\" % y_labels"
   ]
  },
  {
   "cell_type": "code",
   "execution_count": 19,
   "metadata": {
    "collapsed": false
   },
   "outputs": [
    {
     "data": {
      "text/plain": [
       "array([0, 0, 1, ..., 5, 9, 0])"
      ]
     },
     "execution_count": 19,
     "metadata": {},
     "output_type": "execute_result"
    }
   ],
   "source": [
    "y = y.country_destination\n",
    "y.ravel().astype(int)"
   ]
  },
  {
   "cell_type": "code",
   "execution_count": 20,
   "metadata": {
    "collapsed": false
   },
   "outputs": [
    {
     "name": "stdout",
     "output_type": "stream",
     "text": [
      "(213466, 150)\n",
      "(213466,)\n"
     ]
    }
   ],
   "source": [
    "print X.shape\n",
    "print y.shape"
   ]
  },
  {
   "cell_type": "code",
   "execution_count": 21,
   "metadata": {
    "collapsed": false
   },
   "outputs": [],
   "source": [
    "X_train, X_test, y_train, y_test = train_test_split(X, y, test_size=.3, random_state=1)"
   ]
  },
  {
   "cell_type": "code",
   "execution_count": 22,
   "metadata": {
    "collapsed": false
   },
   "outputs": [
    {
     "name": "stdout",
     "output_type": "stream",
     "text": [
      "(149426, 150)\n",
      "(149426,)\n",
      "(64040, 150)\n",
      "(64040,)\n"
     ]
    }
   ],
   "source": [
    "print X_train.shape\n",
    "print y_train.shape\n",
    "print X_test.shape\n",
    "print y_test.shape"
   ]
  },
  {
   "cell_type": "code",
   "execution_count": null,
   "metadata": {
    "collapsed": false
   },
   "outputs": [],
   "source": [
    "X_train[X_train.age.isnull()]\n",
    "X_train.iloc[139805]"
   ]
  },
  {
   "cell_type": "markdown",
   "metadata": {},
   "source": [
    "## LogisticRegression() yields an accuracy_score of 0.6117 !!!!!"
   ]
  },
  {
   "cell_type": "code",
   "execution_count": null,
   "metadata": {
    "collapsed": true
   },
   "outputs": [],
   "source": [
    "logreg = LogisticRegression()"
   ]
  },
  {
   "cell_type": "code",
   "execution_count": null,
   "metadata": {
    "collapsed": false
   },
   "outputs": [],
   "source": [
    "logreg.fit(X_train, y_train.astype(int))"
   ]
  },
  {
   "cell_type": "code",
   "execution_count": null,
   "metadata": {
    "collapsed": false,
    "scrolled": true
   },
   "outputs": [],
   "source": [
    "y_pred_logreg = logreg.predict(X_test)\n",
    "print y_pred_logreg.shape\n",
    "#print type(y_pred)\n",
    "#print type(y_test)"
   ]
  },
  {
   "cell_type": "code",
   "execution_count": null,
   "metadata": {
    "collapsed": false
   },
   "outputs": [],
   "source": [
    "print metrics.accuracy_score(y_test.astype(int), y_pred_logreg.astype(int))"
   ]
  },
  {
   "cell_type": "code",
   "execution_count": null,
   "metadata": {
    "collapsed": false
   },
   "outputs": [],
   "source": [
    "conf_matrix_logreg = metrics.confusion_matrix(y_test.astype(int), y_pred_logreg.astype(int))\n",
    "print conf_matrix_logreg\n",
    "print sum(sum(conf_matrix_logreg))"
   ]
  },
  {
   "cell_type": "markdown",
   "metadata": {},
   "source": [
    "## KNN w 90 neighbors yields accuracy 0.6266 \n",
    "## KNN w 120 neighbors yields accuracy 0.6264"
   ]
  },
  {
   "cell_type": "code",
   "execution_count": null,
   "metadata": {
    "collapsed": false
   },
   "outputs": [],
   "source": [
    "knn = KNeighborsClassifier(n_neighbors=90)\n",
    "knn.fit(X_train, y_train.astype(int))\n",
    "y_pred_knn = knn.predict(X_test)"
   ]
  },
  {
   "cell_type": "code",
   "execution_count": null,
   "metadata": {
    "collapsed": false,
    "scrolled": true
   },
   "outputs": [],
   "source": [
    "print metrics.accuracy_score(y_test.astype(int), y_pred_knn.astype(int))"
   ]
  },
  {
   "cell_type": "code",
   "execution_count": null,
   "metadata": {
    "collapsed": false
   },
   "outputs": [],
   "source": [
    "conf_matrix_knn = metrics.confusion_matrix(y_test.astype(int), y_pred_knn.astype(int))\n",
    "print conf_matrix_knn\n",
    "print sum(sum(conf_matrix_knn))"
   ]
  },
  {
   "cell_type": "markdown",
   "metadata": {},
   "source": [
    "## We cannot set age NaN's w kneighbors because even 1000 neighbors don't have age attr defined!"
   ]
  },
  {
   "cell_type": "code",
   "execution_count": null,
   "metadata": {
    "collapsed": false
   },
   "outputs": [],
   "source": [
    "#print X_train.loc[0]\n",
    "neighbors = knn.kneighbors(X_train.loc[0].reshape(1,-1), 1000)\n",
    "#print neighbors[1][0]\n",
    "X_train.iloc[neighbors[1][0]][X_train.age > 0]\n",
    "#X_train.loc[30956]"
   ]
  },
  {
   "cell_type": "markdown",
   "metadata": {},
   "source": [
    "### RandomizedSearchCV - start w a small n_iter and increase if necessary: unuseful features are auto eliminated!!!! "
   ]
  },
  {
   "cell_type": "code",
   "execution_count": null,
   "metadata": {
    "collapsed": true
   },
   "outputs": [],
   "source": [
    "from sklearn.grid_search import RandomizedSearchCV\n",
    "\n",
    "k_range = [5,15,30,45,60,75,90,120,150,200,250,300,400,500]\n",
    "weight_options = [\"uniform\", \"distance\"]\n",
    "param_dist = dict(n_neighbors=k_range, weights=weight_options) # must be a continuous distribution for continuous params!\n",
    "\n",
    "rand = RandomizedSearchCV(knn, param_dist, cv=10, n_iter=10, scoring='accuracy', n_jobs=-1)\n",
    "rand.fit(X.astype(int), y.astype(int))\n",
    "rand.grid_scores_"
   ]
  },
  {
   "cell_type": "code",
   "execution_count": null,
   "metadata": {
    "collapsed": true
   },
   "outputs": [],
   "source": [
    "print rand.best_score_\n",
    "print rand.best_params_\n",
    "print rand.best_estimator_"
   ]
  },
  {
   "cell_type": "markdown",
   "metadata": {},
   "source": [
    "## NeuralNetwork ( by PyBrain ) yields 0.5998 (w 100,000 samples & 30 epocs) !!\n",
    "## NeuralNetwork ( by PyBrain ) yields 0.6324 (w 30 epocs & 20,20,20,20,20) \n",
    "## NeuralNetwork ( by PyBrain ) yields 0.6348 (w 30 epocs & 100,70,50,30,20) \n",
    "## NeuralNetwork ( by PyBrain ) yields 0.6354 (w 60 epocs & 100,70,50,30,20) "
   ]
  },
  {
   "cell_type": "code",
   "execution_count": null,
   "metadata": {
    "collapsed": false
   },
   "outputs": [],
   "source": [
    "type(X.shape[0])\n"
   ]
  },
  {
   "cell_type": "code",
   "execution_count": null,
   "metadata": {
    "collapsed": true
   },
   "outputs": [],
   "source": [
    "from pybrain.tools.shortcuts import buildNetwork\n",
    "from pybrain.structure import TanhLayer\n",
    "from pybrain.structure import SoftmaxLayer\n",
    "from pybrain.datasets import ClassificationDataSet\n",
    "from pybrain.supervised.trainers import BackpropTrainer\n",
    "from pybrain.utilities import percentError\n",
    "\n",
    "alldata = ClassificationDataSet(150, 1, nb_classes=12)\n",
    "for i in range(X.shape[0]):\n",
    "    alldata.addSample(X[i:i+1].values.tolist()[0], y[i:i+1].values.tolist())\n",
    "\n",
    "tstdata, trndata = alldata.splitWithProportion( 0.3 )\n",
    "\n",
    "trndata._convertToOneOfMany( )\n",
    "tstdata._convertToOneOfMany( )\n",
    "\n",
    "#net = buildNetwork(150, 100, 50, 12, 1, bias=True, hiddenclass=TanhLayer, outclass=SoftmaxLayer)\n",
    "#fnn = buildNetwork( trndata.indim, 20, 20, 20, 20, 20, trndata.outdim, bias=True, hiddenclass=TanhLayer, outclass=SoftmaxLayer ) # yields %45.62 test error\n",
    "fnn = buildNetwork( trndata.indim, 100, 70, 50, 30, 20, trndata.outdim, outclass=SoftmaxLayer)\n",
    "                   \n",
    "#trainer = BackpropTrainer( fnn, dataset=trndata, momentum=0.1, verbose=True, weightdecay=0.01) \n",
    "trainer = BackpropTrainer( fnn, dataset=trndata, verbose=True) \n",
    "\n",
    "for i in range(30):\n",
    "    trainer.trainEpochs( 1 )\n",
    "    trnresult = percentError( trainer.testOnClassData(),\n",
    "                              trndata['class'] )\n",
    "    tstresult = percentError( trainer.testOnClassData(\n",
    "           dataset=tstdata ), tstdata['class'] )\n",
    "\n",
    "    print \"epoch: %4d\" % trainer.totalepochs, \\\n",
    "          \"  train error: %5.2f%%\" % trnresult, \\\n",
    "          \"  test error: %5.2f%%\" % tstresult    "
   ]
  },
  {
   "cell_type": "code",
   "execution_count": null,
   "metadata": {
    "collapsed": false
   },
   "outputs": [],
   "source": [
    "y_pred = trainer.testOnClassData(dataset=tstdata)\n",
    "conf_matrix_fnn = metrics.confusion_matrix(tstdata[\"class\"], y_pred)\n",
    "print conf_matrix_fnn\n",
    "print sum(sum(conf_matrix_fnn))\n",
    "metrics.accuracy_score(tstdata[\"class\"], y_pred)\n",
    "#tstdata[\"class\"].shape\n",
    "#trainer.testOnClassData(dataset=tstdata).shape"
   ]
  },
  {
   "cell_type": "code",
   "execution_count": null,
   "metadata": {
    "collapsed": true
   },
   "outputs": [],
   "source": [
    "for i in range(30):\n",
    "    trainer.trainEpochs( 1 )\n",
    "    trnresult = percentError( trainer.testOnClassData(),\n",
    "                              trndata['class'] )\n",
    "    tstresult = percentError( trainer.testOnClassData(\n",
    "           dataset=tstdata ), tstdata['class'] )\n",
    "\n",
    "    print \"epoch: %4d\" % trainer.totalepochs, \\\n",
    "          \"  train error: %5.2f%%\" % trnresult, \\\n",
    "          \"  test error: %5.2f%%\" % tstresult    "
   ]
  },
  {
   "cell_type": "markdown",
   "metadata": {},
   "source": [
    "## SVM (C=1.0) accuracy 0.6315"
   ]
  },
  {
   "cell_type": "code",
   "execution_count": null,
   "metadata": {
    "collapsed": false
   },
   "outputs": [],
   "source": [
    "from sklearn.svm import SVC\n",
    "\n",
    "svm = SVC()\n",
    "svm.fit(X_train, y_train.astype(int))\n",
    "y_pred = svm.predict(X_test)"
   ]
  },
  {
   "cell_type": "code",
   "execution_count": null,
   "metadata": {
    "collapsed": false,
    "scrolled": true
   },
   "outputs": [],
   "source": [
    "print metrics.accuracy_score(y_test.astype(int), y_pred.astype(int))"
   ]
  },
  {
   "cell_type": "code",
   "execution_count": null,
   "metadata": {
    "collapsed": false
   },
   "outputs": [],
   "source": [
    "conf_matrix_svm = metrics.confusion_matrix(y_test.astype(int), y_pred.astype(int))\n",
    "print conf_matrix_svm\n",
    "print sum(sum(conf_matrix_svm))"
   ]
  },
  {
   "cell_type": "code",
   "execution_count": null,
   "metadata": {
    "collapsed": false
   },
   "outputs": [],
   "source": [
    "y_test.value_counts()"
   ]
  },
  {
   "cell_type": "markdown",
   "metadata": {},
   "source": [
    "## LinearSVC accuracy 0.5873"
   ]
  },
  {
   "cell_type": "code",
   "execution_count": null,
   "metadata": {
    "collapsed": false
   },
   "outputs": [],
   "source": [
    "from sklearn.svm import LinearSVC\n",
    "\n",
    "lsvc = LinearSVC()\n",
    "lsvc.fit(X_train, y_train.astype(int))\n",
    "y_pred_lsvc = lsvc.predict(X_test)"
   ]
  },
  {
   "cell_type": "code",
   "execution_count": null,
   "metadata": {
    "collapsed": false,
    "scrolled": true
   },
   "outputs": [],
   "source": [
    "print metrics.accuracy_score(y_test.astype(int), y_pred_lsvc.astype(int))"
   ]
  },
  {
   "cell_type": "markdown",
   "metadata": {},
   "source": [
    "## AdaBoost accuracy (n_estimators=100) 0.6329 !!! (VERY FAST)"
   ]
  },
  {
   "cell_type": "code",
   "execution_count": null,
   "metadata": {
    "collapsed": false
   },
   "outputs": [],
   "source": [
    "from sklearn.ensemble import AdaBoostClassifier\n",
    "\n",
    "abo = AdaBoostClassifier(n_estimators=200)\n",
    "abo.fit(X_train, y_train.astype(int))\n",
    "y_pred_abo = abo.predict(X_test)"
   ]
  },
  {
   "cell_type": "code",
   "execution_count": null,
   "metadata": {
    "collapsed": false,
    "scrolled": true
   },
   "outputs": [],
   "source": [
    "print metrics.accuracy_score(y_test.astype(int), y_pred_abo.astype(int))"
   ]
  },
  {
   "cell_type": "code",
   "execution_count": null,
   "metadata": {
    "collapsed": false
   },
   "outputs": [],
   "source": [
    "conf_matrix_abo = metrics.confusion_matrix(y_test.astype(int), y_pred_abo.astype(int))\n",
    "print conf_matrix_abo\n",
    "print sum(sum(conf_matrix_abo))"
   ]
  },
  {
   "cell_type": "code",
   "execution_count": null,
   "metadata": {
    "collapsed": true
   },
   "outputs": [],
   "source": [
    "predict_proba_test_abo = abo.predict_proba(X_test)\n",
    "predict_proba_test_abo.shape"
   ]
  },
  {
   "cell_type": "code",
   "execution_count": null,
   "metadata": {
    "collapsed": true
   },
   "outputs": [],
   "source": [
    "predict_proba_test_abo[:3]"
   ]
  },
  {
   "cell_type": "code",
   "execution_count": null,
   "metadata": {
    "collapsed": true
   },
   "outputs": [],
   "source": [
    "feat_importances = []\n",
    "for i in range(len(X_test.columns)):\n",
    "    #print \"%s: %.3f\" % (X_test.columns[i], abo.feature_importances_[i])\n",
    "    feat_importances.append((X_test.columns[i], abo.feature_importances_[i]))\n",
    "\n",
    "feat_importances = sorted(feat_importances, key=lambda x: x[1], reverse=True)\n",
    "for pair in feat_importances:\n",
    "    print pair[0], pair[1]\n",
    "\n",
    "    \n",
    "\n",
    "#print X_train.columns\n",
    "#print abo.feature_importances_"
   ]
  },
  {
   "cell_type": "markdown",
   "metadata": {},
   "source": [
    "## GradientBoostingClassifier yields accuracy 0.6359"
   ]
  },
  {
   "cell_type": "code",
   "execution_count": null,
   "metadata": {
    "collapsed": true
   },
   "outputs": [],
   "source": [
    "from sklearn.ensemble import GradientBoostingClassifier\n",
    "\n",
    "gbc = GradientBoostingClassifier()\n",
    "gbc.fit(X_train, y_train.astype(int))\n",
    "y_pred_gbc = gbc.predict(X_test)"
   ]
  },
  {
   "cell_type": "code",
   "execution_count": null,
   "metadata": {
    "collapsed": false,
    "scrolled": false
   },
   "outputs": [],
   "source": [
    "print metrics.accuracy_score(y_test.astype(int), y_pred_gbc.astype(int))"
   ]
  },
  {
   "cell_type": "code",
   "execution_count": null,
   "metadata": {
    "collapsed": false
   },
   "outputs": [],
   "source": [
    "conf_matrix_gbc = metrics.confusion_matrix(y_test.astype(int), y_pred_gbc.astype(int))\n",
    "print conf_matrix_gbc\n",
    "print sum(sum(conf_matrix_gbc))"
   ]
  },
  {
   "cell_type": "code",
   "execution_count": null,
   "metadata": {
    "collapsed": false
   },
   "outputs": [],
   "source": [
    "predict_proba_test_gbc = gbc.predict_proba(X_test)\n",
    "predict_proba_test_gbc.shape"
   ]
  },
  {
   "cell_type": "code",
   "execution_count": null,
   "metadata": {
    "collapsed": true
   },
   "outputs": [],
   "source": [
    "feat_importances = []\n",
    "for i in range(len(X_test.columns)):\n",
    "    #print \"%s: %.3f\" % (X_test.columns[i], abo.feature_importances_[i])\n",
    "    feat_importances.append((X_test.columns[i], gbc.feature_importances_[i]))\n",
    "\n",
    "feat_importances = sorted(feat_importances, key=lambda x: x[1], reverse=True)\n",
    "for pair in feat_importances:\n",
    "    print pair[0], pair[1]"
   ]
  },
  {
   "cell_type": "markdown",
   "metadata": {},
   "source": [
    "## xGBoost yields 0.6368 accuracy! *** BEST ***"
   ]
  },
  {
   "cell_type": "code",
   "execution_count": 8,
   "metadata": {
    "collapsed": true
   },
   "outputs": [
    {
     "name": "stderr",
     "output_type": "stream",
     "text": [
      "[0]\teval-merror:0.369878\ttrain-merror:0.370612\n",
      "[1]\teval-merror:0.626390\ttrain-merror:0.623339\n",
      "[2]\teval-merror:0.367583\ttrain-merror:0.368443\n",
      "[3]\teval-merror:0.367661\ttrain-merror:0.368517\n",
      "[4]\teval-merror:0.368285\ttrain-merror:0.369226\n",
      "[5]\teval-merror:0.366849\ttrain-merror:0.367687\n",
      "[6]\teval-merror:0.366880\ttrain-merror:0.367466\n",
      "[7]\teval-merror:0.366224\ttrain-merror:0.367138\n",
      "[8]\teval-merror:0.365100\ttrain-merror:0.365806\n",
      "[9]\teval-merror:0.364663\ttrain-merror:0.365773\n",
      "[10]\teval-merror:0.364382\ttrain-merror:0.365512\n",
      "[11]\teval-merror:0.364475\ttrain-merror:0.365519\n",
      "[12]\teval-merror:0.364225\ttrain-merror:0.365371\n",
      "[13]\teval-merror:0.364866\ttrain-merror:0.365566\n",
      "[14]\teval-merror:0.364413\ttrain-merror:0.365325\n",
      "[15]\teval-merror:0.364194\ttrain-merror:0.364803\n",
      "[16]\teval-merror:0.364147\ttrain-merror:0.364629\n",
      "[17]\teval-merror:0.364179\ttrain-merror:0.364555\n",
      "[18]\teval-merror:0.364335\ttrain-merror:0.364548\n",
      "[19]\teval-merror:0.364366\ttrain-merror:0.364414\n",
      "[20]\teval-merror:0.364350\ttrain-merror:0.364414\n",
      "[21]\teval-merror:0.364382\ttrain-merror:0.364087\n",
      "[22]\teval-merror:0.364585\ttrain-merror:0.364301\n",
      "[23]\teval-merror:0.364507\ttrain-merror:0.364408\n",
      "[24]\teval-merror:0.364428\ttrain-merror:0.364468\n",
      "[25]\teval-merror:0.364600\ttrain-merror:0.364414\n",
      "[26]\teval-merror:0.364631\ttrain-merror:0.364361\n",
      "[27]\teval-merror:0.364585\ttrain-merror:0.364341\n",
      "[28]\teval-merror:0.364507\ttrain-merror:0.364281\n",
      "[29]\teval-merror:0.364366\ttrain-merror:0.364227\n",
      "[30]\teval-merror:0.364397\ttrain-merror:0.364234\n",
      "[31]\teval-merror:0.364288\ttrain-merror:0.364187\n",
      "[32]\teval-merror:0.364335\ttrain-merror:0.364261\n",
      "[33]\teval-merror:0.364225\ttrain-merror:0.364240\n",
      "[34]\teval-merror:0.364210\ttrain-merror:0.364254\n",
      "[35]\teval-merror:0.364553\ttrain-merror:0.364167\n",
      "[36]\teval-merror:0.364616\ttrain-merror:0.364093\n",
      "[37]\teval-merror:0.364428\ttrain-merror:0.364026\n",
      "[38]\teval-merror:0.364507\ttrain-merror:0.363866\n",
      "[39]\teval-merror:0.364631\ttrain-merror:0.363812\n",
      "[40]\teval-merror:0.364335\ttrain-merror:0.363886\n",
      "[41]\teval-merror:0.364382\ttrain-merror:0.363872\n",
      "[42]\teval-merror:0.364428\ttrain-merror:0.363866\n",
      "[43]\teval-merror:0.364022\ttrain-merror:0.363886\n",
      "[44]\teval-merror:0.364288\ttrain-merror:0.364000\n",
      "[45]\teval-merror:0.363819\ttrain-merror:0.363966\n",
      "[46]\teval-merror:0.363741\ttrain-merror:0.363966\n",
      "[47]\teval-merror:0.364272\ttrain-merror:0.364515\n",
      "[48]\teval-merror:0.364147\ttrain-merror:0.364154\n",
      "[49]\teval-merror:0.364147\ttrain-merror:0.364113\n",
      "[50]\teval-merror:0.364085\ttrain-merror:0.364207\n",
      "[51]\teval-merror:0.364069\ttrain-merror:0.364053\n",
      "[52]\teval-merror:0.364007\ttrain-merror:0.364113\n",
      "[53]\teval-merror:0.364054\ttrain-merror:0.363959\n",
      "[54]\teval-merror:0.364007\ttrain-merror:0.363926\n",
      "[55]\teval-merror:0.364335\ttrain-merror:0.364127\n",
      "[56]\teval-merror:0.364163\ttrain-merror:0.364087\n",
      "[57]\teval-merror:0.364101\ttrain-merror:0.364080\n",
      "[58]\teval-merror:0.363976\ttrain-merror:0.364033\n",
      "[59]\teval-merror:0.363960\ttrain-merror:0.364053\n",
      "[60]\teval-merror:0.363929\ttrain-merror:0.364020\n",
      "[61]\teval-merror:0.363835\ttrain-merror:0.364053\n",
      "[62]\teval-merror:0.364038\ttrain-merror:0.364013\n",
      "[63]\teval-merror:0.363788\ttrain-merror:0.363765\n",
      "[64]\teval-merror:0.363773\ttrain-merror:0.363638\n",
      "[65]\teval-merror:0.363866\ttrain-merror:0.363551\n",
      "[66]\teval-merror:0.363632\ttrain-merror:0.363464\n",
      "[67]\teval-merror:0.363663\ttrain-merror:0.363431\n",
      "[68]\teval-merror:0.363632\ttrain-merror:0.363498\n",
      "[69]\teval-merror:0.363663\ttrain-merror:0.363511\n",
      "[70]\teval-merror:0.363648\ttrain-merror:0.363391\n",
      "[71]\teval-merror:0.363695\ttrain-merror:0.363384\n",
      "[72]\teval-merror:0.363710\ttrain-merror:0.363364\n",
      "[73]\teval-merror:0.363695\ttrain-merror:0.363364\n",
      "[74]\teval-merror:0.363741\ttrain-merror:0.363357\n",
      "[75]\teval-merror:0.363804\ttrain-merror:0.363357\n",
      "[76]\teval-merror:0.363835\ttrain-merror:0.363371\n",
      "[77]\teval-merror:0.363913\ttrain-merror:0.363424\n",
      "[78]\teval-merror:0.363929\ttrain-merror:0.363431\n",
      "[79]\teval-merror:0.363913\ttrain-merror:0.363424\n",
      "[80]\teval-merror:0.363882\ttrain-merror:0.363424\n",
      "[81]\teval-merror:0.363866\ttrain-merror:0.363404\n",
      "[82]\teval-merror:0.363851\ttrain-merror:0.363397\n",
      "[83]\teval-merror:0.363835\ttrain-merror:0.363364\n",
      "[84]\teval-merror:0.363835\ttrain-merror:0.363250\n",
      "[85]\teval-merror:0.363788\ttrain-merror:0.363330\n",
      "[86]\teval-merror:0.363773\ttrain-merror:0.363350\n",
      "[87]\teval-merror:0.363804\ttrain-merror:0.363324\n",
      "[88]\teval-merror:0.363679\ttrain-merror:0.363337\n",
      "[89]\teval-merror:0.363554\ttrain-merror:0.363270\n",
      "[90]\teval-merror:0.363632\ttrain-merror:0.363243\n",
      "[91]\teval-merror:0.363538\ttrain-merror:0.363250\n",
      "[92]\teval-merror:0.363398\ttrain-merror:0.363223\n",
      "[93]\teval-merror:0.363398\ttrain-merror:0.362969\n",
      "[94]\teval-merror:0.363304\ttrain-merror:0.363002\n",
      "[95]\teval-merror:0.363413\ttrain-merror:0.362996\n",
      "[96]\teval-merror:0.363382\ttrain-merror:0.363089\n",
      "[97]\teval-merror:0.363320\ttrain-merror:0.363036\n",
      "[98]\teval-merror:0.363289\ttrain-merror:0.363103\n",
      "[99]\teval-merror:0.363289\ttrain-merror:0.363076\n",
      "[100]\teval-merror:0.363304\ttrain-merror:0.363083\n",
      "[101]\teval-merror:0.363351\ttrain-merror:0.363009\n",
      "[102]\teval-merror:0.363148\ttrain-merror:0.363123\n",
      "[103]\teval-merror:0.363289\ttrain-merror:0.363083\n",
      "[104]\teval-merror:0.363304\ttrain-merror:0.362902\n",
      "[105]\teval-merror:0.363289\ttrain-merror:0.362889\n",
      "[106]\teval-merror:0.363398\ttrain-merror:0.362929\n",
      "[107]\teval-merror:0.363289\ttrain-merror:0.362909\n",
      "[108]\teval-merror:0.363257\ttrain-merror:0.362936\n",
      "[109]\teval-merror:0.363335\ttrain-merror:0.362982\n",
      "[110]\teval-merror:0.363304\ttrain-merror:0.362909\n",
      "[111]\teval-merror:0.363320\ttrain-merror:0.362895\n",
      "[112]\teval-merror:0.363273\ttrain-merror:0.362902\n",
      "[113]\teval-merror:0.363320\ttrain-merror:0.362895\n",
      "[114]\teval-merror:0.363320\ttrain-merror:0.362889\n",
      "[115]\teval-merror:0.363320\ttrain-merror:0.362895\n",
      "[116]\teval-merror:0.363382\ttrain-merror:0.362828\n",
      "[117]\teval-merror:0.363320\ttrain-merror:0.362741\n",
      "[118]\teval-merror:0.363335\ttrain-merror:0.362761\n",
      "[119]\teval-merror:0.363179\ttrain-merror:0.362648\n",
      "[120]\teval-merror:0.363148\ttrain-merror:0.362668\n",
      "[121]\teval-merror:0.363164\ttrain-merror:0.362641\n",
      "[122]\teval-merror:0.363179\ttrain-merror:0.362554\n",
      "[123]\teval-merror:0.363210\ttrain-merror:0.362487\n",
      "[124]\teval-merror:0.363086\ttrain-merror:0.362467\n",
      "[125]\teval-merror:0.362961\ttrain-merror:0.362474\n",
      "[126]\teval-merror:0.363164\ttrain-merror:0.362467\n",
      "[127]\teval-merror:0.363039\ttrain-merror:0.362373\n",
      "[128]\teval-merror:0.363226\ttrain-merror:0.362500\n",
      "[129]\teval-merror:0.363007\ttrain-merror:0.362380\n",
      "[130]\teval-merror:0.363164\ttrain-merror:0.362507\n",
      "[131]\teval-merror:0.363242\ttrain-merror:0.362293\n",
      "[132]\teval-merror:0.363320\ttrain-merror:0.362240\n",
      "[133]\teval-merror:0.363335\ttrain-merror:0.362313\n",
      "[134]\teval-merror:0.363335\ttrain-merror:0.362119\n",
      "[135]\teval-merror:0.363289\ttrain-merror:0.362253\n",
      "[136]\teval-merror:0.363226\ttrain-merror:0.362246\n",
      "[137]\teval-merror:0.363335\ttrain-merror:0.362086\n",
      "[138]\teval-merror:0.363242\ttrain-merror:0.362306\n",
      "[139]\teval-merror:0.363398\ttrain-merror:0.362300\n",
      "[140]\teval-merror:0.363367\ttrain-merror:0.362193\n",
      "[141]\teval-merror:0.363242\ttrain-merror:0.362300\n",
      "[142]\teval-merror:0.363289\ttrain-merror:0.362306\n",
      "[143]\teval-merror:0.363226\ttrain-merror:0.362206\n",
      "[144]\teval-merror:0.363273\ttrain-merror:0.362159\n",
      "[145]\teval-merror:0.363320\ttrain-merror:0.362126\n",
      "[146]\teval-merror:0.363289\ttrain-merror:0.362179\n",
      "[147]\teval-merror:0.363429\ttrain-merror:0.362193\n",
      "[148]\teval-merror:0.363320\ttrain-merror:0.362186\n",
      "[149]\teval-merror:0.363242\ttrain-merror:0.362092\n"
     ]
    }
   ],
   "source": [
    "import xgboost as xgb\n",
    "\n",
    "#param = {'bst:max_depth':2, 'bst:eta':1, 'silent':1, 'objective':'binary:logistic' }\n",
    "param = {'bst:max_depth':2, 'bst:eta':1, 'silent':0, 'objective': 'multi:softmax', 'num_class': 12}\n",
    "param['nthread'] = 4\n",
    "#param['eval_metric'] = 'auc'\n",
    "num_round = 129\n",
    "dtrain = xgb.DMatrix( X_train, label=y_train )\n",
    "dtest = xgb.DMatrix( X_test, label=y_test )\n",
    "evallist  = [(dtest,'eval'), (dtrain,'train')]\n",
    "#bst = xgb.train( param.items(), dtrain, num_round, evallist, early_stopping_rounds=10)\n",
    "bst = xgb.train( param.items(), dtrain, num_round, evallist)"
   ]
  },
  {
   "cell_type": "code",
   "execution_count": 9,
   "metadata": {
    "collapsed": false
   },
   "outputs": [],
   "source": [
    "y_pred_xgb = bst.predict(xgb.DMatrix(X_test))"
   ]
  },
  {
   "cell_type": "code",
   "execution_count": 10,
   "metadata": {
    "collapsed": false,
    "scrolled": false
   },
   "outputs": [
    {
     "name": "stdout",
     "output_type": "stream",
     "text": [
      "0.636758276077\n"
     ]
    }
   ],
   "source": [
    "print metrics.accuracy_score(y_test.astype(int), y_pred_xgb.astype(int))"
   ]
  },
  {
   "cell_type": "code",
   "execution_count": 11,
   "metadata": {
    "collapsed": false,
    "scrolled": true
   },
   "outputs": [
    {
     "name": "stdout",
     "output_type": "stream",
     "text": [
      "[[31888  5413     6     0     0     0     1     0     0     1     0     0]\n",
      " [ 9898  8890     2     0     0     0     0     0     0     0     0     0]\n",
      " [ 1685  1300     0     0     0     0     0     0     0     0     0     0]\n",
      " [  841   653     1     0     0     0     0     0     0     0     0     0]\n",
      " [  232   206     0     0     0     0     0     0     0     0     0     0]\n",
      " [  382   333     0     0     0     0     0     0     0     0     0     0]\n",
      " [  389   287     0     0     0     0     0     0     0     0     0     0]\n",
      " [  490   387     0     0     0     0     1     0     0     0     0     0]\n",
      " [   45    20     0     0     0     0     0     0     0     0     0     0]\n",
      " [  117   115     0     0     0     0     0     0     0     0     0     0]\n",
      " [  148   145     0     0     0     0     0     0     0     0     0     0]\n",
      " [   81    83     0     0     0     0     0     0     0     0     0     0]]\n",
      "64040\n"
     ]
    }
   ],
   "source": [
    "conf_matrix_xgb = metrics.confusion_matrix(y_test.astype(int), y_pred_xgb.astype(int))\n",
    "print conf_matrix_xgb\n",
    "print sum(sum(conf_matrix_xgb))"
   ]
  },
  {
   "cell_type": "code",
   "execution_count": null,
   "metadata": {
    "collapsed": false
   },
   "outputs": [],
   "source": [
    "%matplotlib inline\n",
    "xgb.plot_importance(bst, height=2000)"
   ]
  },
  {
   "cell_type": "code",
   "execution_count": 13,
   "metadata": {
    "collapsed": false,
    "scrolled": true
   },
   "outputs": [
    {
     "ename": "ImportError",
     "evalue": "You must install graphviz to plot tree",
     "output_type": "error",
     "traceback": [
      "\u001b[0;31m---------------------------------------------------------------------------\u001b[0m",
      "\u001b[0;31mImportError\u001b[0m                               Traceback (most recent call last)",
      "\u001b[0;32m<ipython-input-13-6c977046c9cf>\u001b[0m in \u001b[0;36m<module>\u001b[0;34m()\u001b[0m\n\u001b[0;32m----> 1\u001b[0;31m \u001b[0mxgb\u001b[0m\u001b[0;34m.\u001b[0m\u001b[0mto_graphviz\u001b[0m\u001b[0;34m(\u001b[0m\u001b[0mbst\u001b[0m\u001b[0;34m,\u001b[0m \u001b[0mnum_trees\u001b[0m\u001b[0;34m=\u001b[0m\u001b[0;36m2\u001b[0m\u001b[0;34m)\u001b[0m\u001b[0;34m\u001b[0m\u001b[0m\n\u001b[0m",
      "\u001b[0;32m//anaconda/lib/python2.7/site-packages/xgboost/plotting.pyc\u001b[0m in \u001b[0;36mto_graphviz\u001b[0;34m(booster, num_trees, rankdir, yes_color, no_color, **kwargs)\u001b[0m\n\u001b[1;32m    176\u001b[0m         \u001b[0;32mfrom\u001b[0m \u001b[0mgraphviz\u001b[0m \u001b[0;32mimport\u001b[0m \u001b[0mDigraph\u001b[0m\u001b[0;34m\u001b[0m\u001b[0m\n\u001b[1;32m    177\u001b[0m     \u001b[0;32mexcept\u001b[0m \u001b[0mImportError\u001b[0m\u001b[0;34m:\u001b[0m\u001b[0;34m\u001b[0m\u001b[0m\n\u001b[0;32m--> 178\u001b[0;31m         \u001b[0;32mraise\u001b[0m \u001b[0mImportError\u001b[0m\u001b[0;34m(\u001b[0m\u001b[0;34m'You must install graphviz to plot tree'\u001b[0m\u001b[0;34m)\u001b[0m\u001b[0;34m\u001b[0m\u001b[0m\n\u001b[0m\u001b[1;32m    179\u001b[0m \u001b[0;34m\u001b[0m\u001b[0m\n\u001b[1;32m    180\u001b[0m     \u001b[0;32mif\u001b[0m \u001b[0;32mnot\u001b[0m \u001b[0misinstance\u001b[0m\u001b[0;34m(\u001b[0m\u001b[0mbooster\u001b[0m\u001b[0;34m,\u001b[0m \u001b[0;34m(\u001b[0m\u001b[0mBooster\u001b[0m\u001b[0;34m,\u001b[0m \u001b[0mXGBModel\u001b[0m\u001b[0;34m)\u001b[0m\u001b[0;34m)\u001b[0m\u001b[0;34m:\u001b[0m\u001b[0;34m\u001b[0m\u001b[0m\n",
      "\u001b[0;31mImportError\u001b[0m: You must install graphviz to plot tree"
     ]
    }
   ],
   "source": [
    "xgb.to_graphviz(bst, num_trees=2)"
   ]
  },
  {
   "cell_type": "markdown",
   "metadata": {},
   "source": [
    "## SGDClassifier yields: 0.5824 ! *** WORST *** !"
   ]
  },
  {
   "cell_type": "code",
   "execution_count": 25,
   "metadata": {
    "collapsed": false
   },
   "outputs": [],
   "source": [
    "sgd = SGDClassifier()\n",
    "sgd.fit(X_train, y_train.astype(int))\n",
    "y_pred_sgd = sgd.predict(X_test)"
   ]
  },
  {
   "cell_type": "code",
   "execution_count": 26,
   "metadata": {
    "collapsed": false
   },
   "outputs": [
    {
     "name": "stdout",
     "output_type": "stream",
     "text": [
      "0.582386008745\n"
     ]
    }
   ],
   "source": [
    "print metrics.accuracy_score(y_test.astype(int), y_pred_sgd.astype(int))"
   ]
  },
  {
   "cell_type": "code",
   "execution_count": 27,
   "metadata": {
    "collapsed": false
   },
   "outputs": [
    {
     "name": "stdout",
     "output_type": "stream",
     "text": [
      "[[36801   494     7     0     0     0     0     4     0     1     0     2]\n",
      " [18290   495     2     0     0     0     0     1     0     0     0     2]\n",
      " [ 2910    75     0     0     0     0     0     0     0     0     0     0]\n",
      " [ 1437    57     0     0     0     0     0     0     0     0     0     1]\n",
      " [  426    12     0     0     0     0     0     0     0     0     0     0]\n",
      " [  693    22     0     0     0     0     0     0     0     0     0     0]\n",
      " [  650    26     0     0     0     0     0     0     0     0     0     0]\n",
      " [  847    31     0     0     0     0     0     0     0     0     0     0]\n",
      " [   64     1     0     0     0     0     0     0     0     0     0     0]\n",
      " [  225     7     0     0     0     0     0     0     0     0     0     0]\n",
      " [  276    17     0     0     0     0     0     0     0     0     0     0]\n",
      " [  163     1     0     0     0     0     0     0     0     0     0     0]]\n",
      "64040\n"
     ]
    }
   ],
   "source": [
    "conf_matrix_sgd = metrics.confusion_matrix(y_test.astype(int), y_pred_sgd.astype(int))\n",
    "print conf_matrix_sgd\n",
    "print sum(sum(conf_matrix_sgd))"
   ]
  }
 ],
 "metadata": {
  "kernelspec": {
   "display_name": "Python 2",
   "language": "python",
   "name": "python2"
  },
  "language_info": {
   "codemirror_mode": {
    "name": "ipython",
    "version": 2
   },
   "file_extension": ".py",
   "mimetype": "text/x-python",
   "name": "python",
   "nbconvert_exporter": "python",
   "pygments_lexer": "ipython2",
   "version": "2.7.11"
  }
 },
 "nbformat": 4,
 "nbformat_minor": 0
}
